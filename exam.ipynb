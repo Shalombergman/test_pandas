{
 "cells": [
  {
   "metadata": {},
   "cell_type": "code",
   "outputs": [],
   "execution_count": null,
   "source": "",
   "id": "6a9e9f5945c1b169"
  },
  {
   "metadata": {},
   "cell_type": "markdown",
   "source": [
    "# Exercise: Exploratory Data Analysis with Pandas\n",
    "## Instructions\n",
    "1. Data Collection\n",
    "    - Search and collect data on the following: (1993 - 2023)\n",
    "        - Israel interest tares\n",
    "        - US interest rates\n",
    "        - USD to ILS exchange rates\n",
    "    - For each dataset, create a pandas DataFrame with the following columns:\n",
    "        - Year\n",
    "        - Month\n",
    "        - Current_Rate (Interest rate or exchange rate for that month)\n",
    "        - Change_From_Last_Month (Difference in Current_Rate from the previous month)\n",
    "        - Optional: You may include additional columns if you find them useful (e.g., Change_Percentage, Date).\n",
    "\n"
   ],
   "id": "2b8e938eb34b0315"
  },
  {
   "metadata": {
    "ExecuteTime": {
     "end_time": "2024-11-07T09:21:04.585016Z",
     "start_time": "2024-11-07T09:21:04.546216Z"
    }
   },
   "cell_type": "code",
   "source": [
    "import pandas as pd\n",
    "\n",
    "df_isr = pd.read_csv('./data/BR_israel_interest.csv',index_col=0) #load data\n",
    "df_isr.head()\n",
    "\n",
    "\n"
   ],
   "id": "17a7b132e53c5faa",
   "outputs": [
    {
     "data": {
      "text/plain": [
       "                       שם סדרה FREQ תדירות IR_FV_TYPE  \\\n",
       "SERIES_CODE                                             \n",
       "MNT_RIB_BOI_D  ריבית בנק ישראל    D   יומי    RIB_BOI   \n",
       "MNT_RIB_BOI_D  ריבית בנק ישראל    D   יומי    RIB_BOI   \n",
       "MNT_RIB_BOI_D  ריבית בנק ישראל    D   יומי    RIB_BOI   \n",
       "MNT_RIB_BOI_D  ריבית בנק ישראל    D   יומי    RIB_BOI   \n",
       "MNT_RIB_BOI_D  ריבית בנק ישראל    D   יומי    RIB_BOI   \n",
       "\n",
       "                                     סוג ריבית DATA_SOURCE מקור נתונים  \\\n",
       "SERIES_CODE                                                              \n",
       "MNT_RIB_BOI_D  ריבית בנק מרכזי מוצהרת נומינלית         BOI   בנק ישראל   \n",
       "MNT_RIB_BOI_D  ריבית בנק מרכזי מוצהרת נומינלית         BOI   בנק ישראל   \n",
       "MNT_RIB_BOI_D  ריבית בנק מרכזי מוצהרת נומינלית         BOI   בנק ישראל   \n",
       "MNT_RIB_BOI_D  ריבית בנק מרכזי מוצהרת נומינלית         BOI   בנק ישראל   \n",
       "MNT_RIB_BOI_D  ריבית בנק מרכזי מוצהרת נומינלית         BOI   בנק ישראל   \n",
       "\n",
       "              TIME_COLLECT אופן חישוב בתקופת זמן CONF_STATUS  ... PUB_WEBSITE  \\\n",
       "SERIES_CODE                                                   ...               \n",
       "MNT_RIB_BOI_D            V                   אחר           F  ...           Y   \n",
       "MNT_RIB_BOI_D            V                   אחר           F  ...           Y   \n",
       "MNT_RIB_BOI_D            V                   אחר           F  ...           Y   \n",
       "MNT_RIB_BOI_D            V                   אחר           F  ...           Y   \n",
       "MNT_RIB_BOI_D            V                   אחר           F  ...           Y   \n",
       "\n",
       "              פרסום באתר UNIT_MEASURE יחידות מידה UNIT_MULT  מכפיל יחידות  \\\n",
       "SERIES_CODE                                                                 \n",
       "MNT_RIB_BOI_D         כן           PT      אחוזים         0        יחידות   \n",
       "MNT_RIB_BOI_D         כן           PT      אחוזים         0        יחידות   \n",
       "MNT_RIB_BOI_D         כן           PT      אחוזים         0        יחידות   \n",
       "MNT_RIB_BOI_D         כן           PT      אחוזים         0        יחידות   \n",
       "MNT_RIB_BOI_D         כן           PT      אחוזים         0        יחידות   \n",
       "\n",
       "              TIME_PERIOD OBS_VALUE  RELEASE_STATUS  \\\n",
       "SERIES_CODE                                           \n",
       "MNT_RIB_BOI_D  1994-01-27      10.5              YP   \n",
       "MNT_RIB_BOI_D  1994-01-28      10.5              YP   \n",
       "MNT_RIB_BOI_D  1994-01-29      10.5              YP   \n",
       "MNT_RIB_BOI_D  1994-01-30      10.5              YP   \n",
       "MNT_RIB_BOI_D  1994-01-31      10.5              YP   \n",
       "\n",
       "                                          שחרור תצפית  \n",
       "SERIES_CODE                                            \n",
       "MNT_RIB_BOI_D  תצפית משוחררת לציבור ופנימית ( Public)  \n",
       "MNT_RIB_BOI_D  תצפית משוחררת לציבור ופנימית ( Public)  \n",
       "MNT_RIB_BOI_D  תצפית משוחררת לציבור ופנימית ( Public)  \n",
       "MNT_RIB_BOI_D  תצפית משוחררת לציבור ופנימית ( Public)  \n",
       "MNT_RIB_BOI_D  תצפית משוחררת לציבור ופנימית ( Public)  \n",
       "\n",
       "[5 rows x 21 columns]"
      ],
      "text/html": [
       "<div>\n",
       "<style scoped>\n",
       "    .dataframe tbody tr th:only-of-type {\n",
       "        vertical-align: middle;\n",
       "    }\n",
       "\n",
       "    .dataframe tbody tr th {\n",
       "        vertical-align: top;\n",
       "    }\n",
       "\n",
       "    .dataframe thead th {\n",
       "        text-align: right;\n",
       "    }\n",
       "</style>\n",
       "<table border=\"1\" class=\"dataframe\">\n",
       "  <thead>\n",
       "    <tr style=\"text-align: right;\">\n",
       "      <th></th>\n",
       "      <th>שם סדרה</th>\n",
       "      <th>FREQ</th>\n",
       "      <th>תדירות</th>\n",
       "      <th>IR_FV_TYPE</th>\n",
       "      <th>סוג ריבית</th>\n",
       "      <th>DATA_SOURCE</th>\n",
       "      <th>מקור נתונים</th>\n",
       "      <th>TIME_COLLECT</th>\n",
       "      <th>אופן חישוב בתקופת זמן</th>\n",
       "      <th>CONF_STATUS</th>\n",
       "      <th>...</th>\n",
       "      <th>PUB_WEBSITE</th>\n",
       "      <th>פרסום באתר</th>\n",
       "      <th>UNIT_MEASURE</th>\n",
       "      <th>יחידות מידה</th>\n",
       "      <th>UNIT_MULT</th>\n",
       "      <th>מכפיל יחידות</th>\n",
       "      <th>TIME_PERIOD</th>\n",
       "      <th>OBS_VALUE</th>\n",
       "      <th>RELEASE_STATUS</th>\n",
       "      <th>שחרור תצפית</th>\n",
       "    </tr>\n",
       "    <tr>\n",
       "      <th>SERIES_CODE</th>\n",
       "      <th></th>\n",
       "      <th></th>\n",
       "      <th></th>\n",
       "      <th></th>\n",
       "      <th></th>\n",
       "      <th></th>\n",
       "      <th></th>\n",
       "      <th></th>\n",
       "      <th></th>\n",
       "      <th></th>\n",
       "      <th></th>\n",
       "      <th></th>\n",
       "      <th></th>\n",
       "      <th></th>\n",
       "      <th></th>\n",
       "      <th></th>\n",
       "      <th></th>\n",
       "      <th></th>\n",
       "      <th></th>\n",
       "      <th></th>\n",
       "      <th></th>\n",
       "    </tr>\n",
       "  </thead>\n",
       "  <tbody>\n",
       "    <tr>\n",
       "      <th>MNT_RIB_BOI_D</th>\n",
       "      <td>ריבית בנק ישראל</td>\n",
       "      <td>D</td>\n",
       "      <td>יומי</td>\n",
       "      <td>RIB_BOI</td>\n",
       "      <td>ריבית בנק מרכזי מוצהרת נומינלית</td>\n",
       "      <td>BOI</td>\n",
       "      <td>בנק ישראל</td>\n",
       "      <td>V</td>\n",
       "      <td>אחר</td>\n",
       "      <td>F</td>\n",
       "      <td>...</td>\n",
       "      <td>Y</td>\n",
       "      <td>כן</td>\n",
       "      <td>PT</td>\n",
       "      <td>אחוזים</td>\n",
       "      <td>0</td>\n",
       "      <td>יחידות</td>\n",
       "      <td>1994-01-27</td>\n",
       "      <td>10.5</td>\n",
       "      <td>YP</td>\n",
       "      <td>תצפית משוחררת לציבור ופנימית ( Public)</td>\n",
       "    </tr>\n",
       "    <tr>\n",
       "      <th>MNT_RIB_BOI_D</th>\n",
       "      <td>ריבית בנק ישראל</td>\n",
       "      <td>D</td>\n",
       "      <td>יומי</td>\n",
       "      <td>RIB_BOI</td>\n",
       "      <td>ריבית בנק מרכזי מוצהרת נומינלית</td>\n",
       "      <td>BOI</td>\n",
       "      <td>בנק ישראל</td>\n",
       "      <td>V</td>\n",
       "      <td>אחר</td>\n",
       "      <td>F</td>\n",
       "      <td>...</td>\n",
       "      <td>Y</td>\n",
       "      <td>כן</td>\n",
       "      <td>PT</td>\n",
       "      <td>אחוזים</td>\n",
       "      <td>0</td>\n",
       "      <td>יחידות</td>\n",
       "      <td>1994-01-28</td>\n",
       "      <td>10.5</td>\n",
       "      <td>YP</td>\n",
       "      <td>תצפית משוחררת לציבור ופנימית ( Public)</td>\n",
       "    </tr>\n",
       "    <tr>\n",
       "      <th>MNT_RIB_BOI_D</th>\n",
       "      <td>ריבית בנק ישראל</td>\n",
       "      <td>D</td>\n",
       "      <td>יומי</td>\n",
       "      <td>RIB_BOI</td>\n",
       "      <td>ריבית בנק מרכזי מוצהרת נומינלית</td>\n",
       "      <td>BOI</td>\n",
       "      <td>בנק ישראל</td>\n",
       "      <td>V</td>\n",
       "      <td>אחר</td>\n",
       "      <td>F</td>\n",
       "      <td>...</td>\n",
       "      <td>Y</td>\n",
       "      <td>כן</td>\n",
       "      <td>PT</td>\n",
       "      <td>אחוזים</td>\n",
       "      <td>0</td>\n",
       "      <td>יחידות</td>\n",
       "      <td>1994-01-29</td>\n",
       "      <td>10.5</td>\n",
       "      <td>YP</td>\n",
       "      <td>תצפית משוחררת לציבור ופנימית ( Public)</td>\n",
       "    </tr>\n",
       "    <tr>\n",
       "      <th>MNT_RIB_BOI_D</th>\n",
       "      <td>ריבית בנק ישראל</td>\n",
       "      <td>D</td>\n",
       "      <td>יומי</td>\n",
       "      <td>RIB_BOI</td>\n",
       "      <td>ריבית בנק מרכזי מוצהרת נומינלית</td>\n",
       "      <td>BOI</td>\n",
       "      <td>בנק ישראל</td>\n",
       "      <td>V</td>\n",
       "      <td>אחר</td>\n",
       "      <td>F</td>\n",
       "      <td>...</td>\n",
       "      <td>Y</td>\n",
       "      <td>כן</td>\n",
       "      <td>PT</td>\n",
       "      <td>אחוזים</td>\n",
       "      <td>0</td>\n",
       "      <td>יחידות</td>\n",
       "      <td>1994-01-30</td>\n",
       "      <td>10.5</td>\n",
       "      <td>YP</td>\n",
       "      <td>תצפית משוחררת לציבור ופנימית ( Public)</td>\n",
       "    </tr>\n",
       "    <tr>\n",
       "      <th>MNT_RIB_BOI_D</th>\n",
       "      <td>ריבית בנק ישראל</td>\n",
       "      <td>D</td>\n",
       "      <td>יומי</td>\n",
       "      <td>RIB_BOI</td>\n",
       "      <td>ריבית בנק מרכזי מוצהרת נומינלית</td>\n",
       "      <td>BOI</td>\n",
       "      <td>בנק ישראל</td>\n",
       "      <td>V</td>\n",
       "      <td>אחר</td>\n",
       "      <td>F</td>\n",
       "      <td>...</td>\n",
       "      <td>Y</td>\n",
       "      <td>כן</td>\n",
       "      <td>PT</td>\n",
       "      <td>אחוזים</td>\n",
       "      <td>0</td>\n",
       "      <td>יחידות</td>\n",
       "      <td>1994-01-31</td>\n",
       "      <td>10.5</td>\n",
       "      <td>YP</td>\n",
       "      <td>תצפית משוחררת לציבור ופנימית ( Public)</td>\n",
       "    </tr>\n",
       "  </tbody>\n",
       "</table>\n",
       "<p>5 rows × 21 columns</p>\n",
       "</div>"
      ]
     },
     "execution_count": 68,
     "metadata": {},
     "output_type": "execute_result"
    }
   ],
   "execution_count": 68
  },
  {
   "metadata": {
    "ExecuteTime": {
     "end_time": "2024-11-07T08:30:28.797254Z",
     "start_time": "2024-11-07T08:30:28.786556Z"
    }
   },
   "cell_type": "code",
   "source": "df_isr.info()",
   "id": "9b5ecc692b512bbd",
   "outputs": [
    {
     "name": "stdout",
     "output_type": "stream",
     "text": [
      "<class 'pandas.core.frame.DataFrame'>\n",
      "Index: 10931 entries, MNT_RIB_BOI_D to MNT_RIB_BOI_D\n",
      "Data columns (total 21 columns):\n",
      " #   Column                 Non-Null Count  Dtype  \n",
      "---  ------                 --------------  -----  \n",
      " 0   שם סדרה                10931 non-null  object \n",
      " 1   FREQ                   10931 non-null  object \n",
      " 2   תדירות                 10931 non-null  object \n",
      " 3   IR_FV_TYPE             10931 non-null  object \n",
      " 4   סוג ריבית              10931 non-null  object \n",
      " 5   DATA_SOURCE            10931 non-null  object \n",
      " 6   מקור נתונים            10931 non-null  object \n",
      " 7   TIME_COLLECT           10931 non-null  object \n",
      " 8   אופן חישוב בתקופת זמן  10931 non-null  object \n",
      " 9   CONF_STATUS            10931 non-null  object \n",
      " 10  סיווג סודיות           10931 non-null  object \n",
      " 11  PUB_WEBSITE            10931 non-null  object \n",
      " 12  פרסום באתר             10931 non-null  object \n",
      " 13  UNIT_MEASURE           10931 non-null  object \n",
      " 14  יחידות מידה            10931 non-null  object \n",
      " 15  UNIT_MULT              10931 non-null  int64  \n",
      " 16  מכפיל יחידות           10931 non-null  object \n",
      " 17  TIME_PERIOD            10931 non-null  object \n",
      " 18  OBS_VALUE              10931 non-null  float64\n",
      " 19  RELEASE_STATUS         10931 non-null  object \n",
      " 20  שחרור תצפית            10931 non-null  object \n",
      "dtypes: float64(1), int64(1), object(19)\n",
      "memory usage: 1.8+ MB\n"
     ]
    }
   ],
   "execution_count": 20
  },
  {
   "metadata": {
    "ExecuteTime": {
     "end_time": "2024-11-07T08:30:32.105030Z",
     "start_time": "2024-11-07T08:30:32.099869Z"
    }
   },
   "cell_type": "code",
   "source": "df_isr.columns",
   "id": "1df6f6b79667cdeb",
   "outputs": [
    {
     "data": {
      "text/plain": [
       "Index(['שם סדרה', 'FREQ', 'תדירות', 'IR_FV_TYPE', 'סוג ריבית', 'DATA_SOURCE',\n",
       "       'מקור נתונים', 'TIME_COLLECT', 'אופן חישוב בתקופת זמן', 'CONF_STATUS',\n",
       "       'סיווג סודיות', 'PUB_WEBSITE', 'פרסום באתר', 'UNIT_MEASURE',\n",
       "       'יחידות מידה', 'UNIT_MULT', 'מכפיל יחידות', 'TIME_PERIOD', 'OBS_VALUE',\n",
       "       'RELEASE_STATUS', 'שחרור תצפית'],\n",
       "      dtype='object')"
      ]
     },
     "execution_count": 21,
     "metadata": {},
     "output_type": "execute_result"
    }
   ],
   "execution_count": 21
  },
  {
   "metadata": {
    "ExecuteTime": {
     "end_time": "2024-11-07T08:59:56.891256Z",
     "start_time": "2024-11-07T08:59:56.885407Z"
    }
   },
   "cell_type": "code",
   "source": "df_isr.TIME_PERIOD.isnull().sum()",
   "id": "9798ab6a92169043",
   "outputs": [
    {
     "data": {
      "text/plain": [
       "0"
      ]
     },
     "execution_count": 41,
     "metadata": {},
     "output_type": "execute_result"
    }
   ],
   "execution_count": 41
  },
  {
   "metadata": {
    "ExecuteTime": {
     "end_time": "2024-11-07T08:35:14.624284Z",
     "start_time": "2024-11-07T08:35:14.619124Z"
    }
   },
   "cell_type": "code",
   "source": "df_isr.OBS_VALUE.isnull().sum()",
   "id": "fad367457a987132",
   "outputs": [
    {
     "data": {
      "text/plain": [
       "0"
      ]
     },
     "execution_count": 23,
     "metadata": {},
     "output_type": "execute_result"
    }
   ],
   "execution_count": 23
  },
  {
   "metadata": {
    "ExecuteTime": {
     "end_time": "2024-11-07T09:00:04.714570Z",
     "start_time": "2024-11-07T09:00:04.709929Z"
    }
   },
   "cell_type": "code",
   "source": "df_isr.duplicated('TIME_PERIOD').sum()",
   "id": "f0879ae73beef8e5",
   "outputs": [
    {
     "data": {
      "text/plain": [
       "0"
      ]
     },
     "execution_count": 42,
     "metadata": {},
     "output_type": "execute_result"
    }
   ],
   "execution_count": 42
  },
  {
   "metadata": {
    "ExecuteTime": {
     "end_time": "2024-11-07T08:43:24.436787Z",
     "start_time": "2024-11-07T08:43:24.430470Z"
    }
   },
   "cell_type": "code",
   "source": "df_isr.TIME_PERIOD == 'False'",
   "id": "f3bf592604020591",
   "outputs": [
    {
     "data": {
      "text/plain": [
       "SERIES_CODE\n",
       "MNT_RIB_BOI_D    False\n",
       "MNT_RIB_BOI_D    False\n",
       "MNT_RIB_BOI_D    False\n",
       "MNT_RIB_BOI_D    False\n",
       "MNT_RIB_BOI_D    False\n",
       "                 ...  \n",
       "MNT_RIB_BOI_D    False\n",
       "MNT_RIB_BOI_D    False\n",
       "MNT_RIB_BOI_D    False\n",
       "MNT_RIB_BOI_D    False\n",
       "MNT_RIB_BOI_D    False\n",
       "Name: TIME_PERIOD, Length: 10931, dtype: bool"
      ]
     },
     "execution_count": 30,
     "metadata": {},
     "output_type": "execute_result"
    }
   ],
   "execution_count": 30
  },
  {
   "metadata": {
    "ExecuteTime": {
     "end_time": "2024-11-07T08:42:11.045731Z",
     "start_time": "2024-11-07T08:42:11.039483Z"
    }
   },
   "cell_type": "code",
   "source": "df_isr.TIME_PERIOD == '%/25%'",
   "id": "98bb4be7f2f0d648",
   "outputs": [
    {
     "data": {
      "text/plain": [
       "SERIES_CODE\n",
       "MNT_RIB_BOI_D    False\n",
       "MNT_RIB_BOI_D    False\n",
       "MNT_RIB_BOI_D    False\n",
       "MNT_RIB_BOI_D    False\n",
       "MNT_RIB_BOI_D    False\n",
       "                 ...  \n",
       "MNT_RIB_BOI_D    False\n",
       "MNT_RIB_BOI_D    False\n",
       "MNT_RIB_BOI_D    False\n",
       "MNT_RIB_BOI_D    False\n",
       "MNT_RIB_BOI_D    False\n",
       "Name: TIME_PERIOD, Length: 10931, dtype: bool"
      ]
     },
     "execution_count": 29,
     "metadata": {},
     "output_type": "execute_result"
    }
   ],
   "execution_count": 29
  },
  {
   "metadata": {
    "ExecuteTime": {
     "end_time": "2024-11-07T09:21:14.746779Z",
     "start_time": "2024-11-07T09:21:14.735627Z"
    }
   },
   "cell_type": "code",
   "source": [
    "df_isr['TIME_PERIOD'] = pd.to_datetime(df_isr['TIME_PERIOD'], errors='coerce')\n",
    "\n",
    "df_isr['TIME_PERIOD'] \n"
   ],
   "id": "71f92a1e099c76e",
   "outputs": [
    {
     "data": {
      "text/plain": [
       "SERIES_CODE\n",
       "MNT_RIB_BOI_D   1994-01-27\n",
       "MNT_RIB_BOI_D   1994-01-28\n",
       "MNT_RIB_BOI_D   1994-01-29\n",
       "MNT_RIB_BOI_D   1994-01-30\n",
       "MNT_RIB_BOI_D   1994-01-31\n",
       "                   ...    \n",
       "MNT_RIB_BOI_D   2023-12-27\n",
       "MNT_RIB_BOI_D   2023-12-28\n",
       "MNT_RIB_BOI_D   2023-12-29\n",
       "MNT_RIB_BOI_D   2023-12-30\n",
       "MNT_RIB_BOI_D   2023-12-31\n",
       "Name: TIME_PERIOD, Length: 10931, dtype: datetime64[ns]"
      ]
     },
     "execution_count": 69,
     "metadata": {},
     "output_type": "execute_result"
    }
   ],
   "execution_count": 69
  },
  {
   "metadata": {
    "ExecuteTime": {
     "end_time": "2024-11-07T09:21:23.073129Z",
     "start_time": "2024-11-07T09:21:23.067016Z"
    }
   },
   "cell_type": "code",
   "source": [
    "df_isr['OBS_VALUE'] = pd.to_numeric(df_isr['OBS_VALUE'], errors='coerce')\n",
    "df_isr['OBS_VALUE']"
   ],
   "id": "6df8ec4c6594cf98",
   "outputs": [
    {
     "data": {
      "text/plain": [
       "SERIES_CODE\n",
       "MNT_RIB_BOI_D    10.50\n",
       "MNT_RIB_BOI_D    10.50\n",
       "MNT_RIB_BOI_D    10.50\n",
       "MNT_RIB_BOI_D    10.50\n",
       "MNT_RIB_BOI_D    10.50\n",
       "                 ...  \n",
       "MNT_RIB_BOI_D     4.75\n",
       "MNT_RIB_BOI_D     4.75\n",
       "MNT_RIB_BOI_D     4.75\n",
       "MNT_RIB_BOI_D     4.75\n",
       "MNT_RIB_BOI_D     4.75\n",
       "Name: OBS_VALUE, Length: 10931, dtype: float64"
      ]
     },
     "execution_count": 71,
     "metadata": {},
     "output_type": "execute_result"
    }
   ],
   "execution_count": 71
  },
  {
   "metadata": {
    "ExecuteTime": {
     "end_time": "2024-11-07T09:21:25.968339Z",
     "start_time": "2024-11-07T09:21:25.960005Z"
    }
   },
   "cell_type": "code",
   "source": [
    "df_isr['Year']  = df_isr['TIME_PERIOD'].dt.year\n",
    "\n",
    "df_isr['Month'] = df_isr['TIME_PERIOD'].dt.month\n",
    "print(df_isr.Year)\n",
    "print(df_isr.Month)"
   ],
   "id": "8245b4878a4a4bed",
   "outputs": [
    {
     "name": "stdout",
     "output_type": "stream",
     "text": [
      "SERIES_CODE\n",
      "MNT_RIB_BOI_D    1994\n",
      "MNT_RIB_BOI_D    1994\n",
      "MNT_RIB_BOI_D    1994\n",
      "MNT_RIB_BOI_D    1994\n",
      "MNT_RIB_BOI_D    1994\n",
      "                 ... \n",
      "MNT_RIB_BOI_D    2023\n",
      "MNT_RIB_BOI_D    2023\n",
      "MNT_RIB_BOI_D    2023\n",
      "MNT_RIB_BOI_D    2023\n",
      "MNT_RIB_BOI_D    2023\n",
      "Name: Year, Length: 10931, dtype: int32\n",
      "SERIES_CODE\n",
      "MNT_RIB_BOI_D     1\n",
      "MNT_RIB_BOI_D     1\n",
      "MNT_RIB_BOI_D     1\n",
      "MNT_RIB_BOI_D     1\n",
      "MNT_RIB_BOI_D     1\n",
      "                 ..\n",
      "MNT_RIB_BOI_D    12\n",
      "MNT_RIB_BOI_D    12\n",
      "MNT_RIB_BOI_D    12\n",
      "MNT_RIB_BOI_D    12\n",
      "MNT_RIB_BOI_D    12\n",
      "Name: Month, Length: 10931, dtype: int32\n"
     ]
    }
   ],
   "execution_count": 72
  },
  {
   "metadata": {
    "ExecuteTime": {
     "end_time": "2024-11-07T09:21:43.346540Z",
     "start_time": "2024-11-07T09:21:43.341636Z"
    }
   },
   "cell_type": "code",
   "source": [
    "df_isr['Current_Rate'] = df_isr['OBS_VALUE']\n",
    "print(df_isr.Current_Rate)"
   ],
   "id": "a2c427069256c3e",
   "outputs": [
    {
     "name": "stdout",
     "output_type": "stream",
     "text": [
      "SERIES_CODE\n",
      "MNT_RIB_BOI_D    10.50\n",
      "MNT_RIB_BOI_D    10.50\n",
      "MNT_RIB_BOI_D    10.50\n",
      "MNT_RIB_BOI_D    10.50\n",
      "MNT_RIB_BOI_D    10.50\n",
      "                 ...  \n",
      "MNT_RIB_BOI_D     4.75\n",
      "MNT_RIB_BOI_D     4.75\n",
      "MNT_RIB_BOI_D     4.75\n",
      "MNT_RIB_BOI_D     4.75\n",
      "MNT_RIB_BOI_D     4.75\n",
      "Name: Current_Rate, Length: 10931, dtype: float64\n"
     ]
    }
   ],
   "execution_count": 76
  },
  {
   "metadata": {
    "ExecuteTime": {
     "end_time": "2024-11-07T09:21:47.287800Z",
     "start_time": "2024-11-07T09:21:47.281186Z"
    }
   },
   "cell_type": "code",
   "source": [
    "df_isr = df_isr[['Year', 'Month', 'Current_Rate']]\n",
    "df_isr.head()"
   ],
   "id": "e30646a341bc3fce",
   "outputs": [
    {
     "data": {
      "text/plain": [
       "               Year  Month  Current_Rate\n",
       "SERIES_CODE                             \n",
       "MNT_RIB_BOI_D  1994      1          10.5\n",
       "MNT_RIB_BOI_D  1994      1          10.5\n",
       "MNT_RIB_BOI_D  1994      1          10.5\n",
       "MNT_RIB_BOI_D  1994      1          10.5\n",
       "MNT_RIB_BOI_D  1994      1          10.5"
      ],
      "text/html": [
       "<div>\n",
       "<style scoped>\n",
       "    .dataframe tbody tr th:only-of-type {\n",
       "        vertical-align: middle;\n",
       "    }\n",
       "\n",
       "    .dataframe tbody tr th {\n",
       "        vertical-align: top;\n",
       "    }\n",
       "\n",
       "    .dataframe thead th {\n",
       "        text-align: right;\n",
       "    }\n",
       "</style>\n",
       "<table border=\"1\" class=\"dataframe\">\n",
       "  <thead>\n",
       "    <tr style=\"text-align: right;\">\n",
       "      <th></th>\n",
       "      <th>Year</th>\n",
       "      <th>Month</th>\n",
       "      <th>Current_Rate</th>\n",
       "    </tr>\n",
       "    <tr>\n",
       "      <th>SERIES_CODE</th>\n",
       "      <th></th>\n",
       "      <th></th>\n",
       "      <th></th>\n",
       "    </tr>\n",
       "  </thead>\n",
       "  <tbody>\n",
       "    <tr>\n",
       "      <th>MNT_RIB_BOI_D</th>\n",
       "      <td>1994</td>\n",
       "      <td>1</td>\n",
       "      <td>10.5</td>\n",
       "    </tr>\n",
       "    <tr>\n",
       "      <th>MNT_RIB_BOI_D</th>\n",
       "      <td>1994</td>\n",
       "      <td>1</td>\n",
       "      <td>10.5</td>\n",
       "    </tr>\n",
       "    <tr>\n",
       "      <th>MNT_RIB_BOI_D</th>\n",
       "      <td>1994</td>\n",
       "      <td>1</td>\n",
       "      <td>10.5</td>\n",
       "    </tr>\n",
       "    <tr>\n",
       "      <th>MNT_RIB_BOI_D</th>\n",
       "      <td>1994</td>\n",
       "      <td>1</td>\n",
       "      <td>10.5</td>\n",
       "    </tr>\n",
       "    <tr>\n",
       "      <th>MNT_RIB_BOI_D</th>\n",
       "      <td>1994</td>\n",
       "      <td>1</td>\n",
       "      <td>10.5</td>\n",
       "    </tr>\n",
       "  </tbody>\n",
       "</table>\n",
       "</div>"
      ]
     },
     "execution_count": 77,
     "metadata": {},
     "output_type": "execute_result"
    }
   ],
   "execution_count": 77
  },
  {
   "metadata": {
    "ExecuteTime": {
     "end_time": "2024-11-07T09:20:12.463297Z",
     "start_time": "2024-11-07T09:20:12.456901Z"
    }
   },
   "cell_type": "code",
   "source": "df_isr.duplicated()",
   "id": "cf845d45026fd742",
   "outputs": [
    {
     "data": {
      "text/plain": [
       "SERIES_CODE\n",
       "MNT_RIB_BOI_D    False\n",
       "MNT_RIB_BOI_D     True\n",
       "MNT_RIB_BOI_D     True\n",
       "MNT_RIB_BOI_D     True\n",
       "MNT_RIB_BOI_D     True\n",
       "                 ...  \n",
       "MNT_RIB_BOI_D     True\n",
       "MNT_RIB_BOI_D     True\n",
       "MNT_RIB_BOI_D     True\n",
       "MNT_RIB_BOI_D     True\n",
       "MNT_RIB_BOI_D     True\n",
       "Length: 10931, dtype: bool"
      ]
     },
     "execution_count": 66,
     "metadata": {},
     "output_type": "execute_result"
    }
   ],
   "execution_count": 66
  },
  {
   "metadata": {
    "ExecuteTime": {
     "end_time": "2024-11-07T09:20:34.331451Z",
     "start_time": "2024-11-07T09:20:34.323179Z"
    }
   },
   "cell_type": "code",
   "source": "\n",
   "id": "e66b267d8d7ee631",
   "outputs": [
    {
     "data": {
      "text/plain": [
       "               Year  Month  Current_Rate\n",
       "SERIES_CODE                             \n",
       "MNT_RIB_BOI_D  1994      1          10.5\n",
       "MNT_RIB_BOI_D  1994      2          10.5\n",
       "MNT_RIB_BOI_D  1994      3          10.5\n",
       "MNT_RIB_BOI_D  1994      4          10.5\n",
       "MNT_RIB_BOI_D  1994      5          10.5\n",
       "MNT_RIB_BOI_D  1994      6          11.5\n",
       "MNT_RIB_BOI_D  1994      7          12.0\n",
       "MNT_RIB_BOI_D  1994      8          12.5\n",
       "MNT_RIB_BOI_D  1994      9          14.0\n",
       "MNT_RIB_BOI_D  1994     10          15.5\n",
       "MNT_RIB_BOI_D  1994     11          15.5\n",
       "MNT_RIB_BOI_D  1994     12          17.0"
      ],
      "text/html": [
       "<div>\n",
       "<style scoped>\n",
       "    .dataframe tbody tr th:only-of-type {\n",
       "        vertical-align: middle;\n",
       "    }\n",
       "\n",
       "    .dataframe tbody tr th {\n",
       "        vertical-align: top;\n",
       "    }\n",
       "\n",
       "    .dataframe thead th {\n",
       "        text-align: right;\n",
       "    }\n",
       "</style>\n",
       "<table border=\"1\" class=\"dataframe\">\n",
       "  <thead>\n",
       "    <tr style=\"text-align: right;\">\n",
       "      <th></th>\n",
       "      <th>Year</th>\n",
       "      <th>Month</th>\n",
       "      <th>Current_Rate</th>\n",
       "    </tr>\n",
       "    <tr>\n",
       "      <th>SERIES_CODE</th>\n",
       "      <th></th>\n",
       "      <th></th>\n",
       "      <th></th>\n",
       "    </tr>\n",
       "  </thead>\n",
       "  <tbody>\n",
       "    <tr>\n",
       "      <th>MNT_RIB_BOI_D</th>\n",
       "      <td>1994</td>\n",
       "      <td>1</td>\n",
       "      <td>10.5</td>\n",
       "    </tr>\n",
       "    <tr>\n",
       "      <th>MNT_RIB_BOI_D</th>\n",
       "      <td>1994</td>\n",
       "      <td>2</td>\n",
       "      <td>10.5</td>\n",
       "    </tr>\n",
       "    <tr>\n",
       "      <th>MNT_RIB_BOI_D</th>\n",
       "      <td>1994</td>\n",
       "      <td>3</td>\n",
       "      <td>10.5</td>\n",
       "    </tr>\n",
       "    <tr>\n",
       "      <th>MNT_RIB_BOI_D</th>\n",
       "      <td>1994</td>\n",
       "      <td>4</td>\n",
       "      <td>10.5</td>\n",
       "    </tr>\n",
       "    <tr>\n",
       "      <th>MNT_RIB_BOI_D</th>\n",
       "      <td>1994</td>\n",
       "      <td>5</td>\n",
       "      <td>10.5</td>\n",
       "    </tr>\n",
       "    <tr>\n",
       "      <th>MNT_RIB_BOI_D</th>\n",
       "      <td>1994</td>\n",
       "      <td>6</td>\n",
       "      <td>11.5</td>\n",
       "    </tr>\n",
       "    <tr>\n",
       "      <th>MNT_RIB_BOI_D</th>\n",
       "      <td>1994</td>\n",
       "      <td>7</td>\n",
       "      <td>12.0</td>\n",
       "    </tr>\n",
       "    <tr>\n",
       "      <th>MNT_RIB_BOI_D</th>\n",
       "      <td>1994</td>\n",
       "      <td>8</td>\n",
       "      <td>12.5</td>\n",
       "    </tr>\n",
       "    <tr>\n",
       "      <th>MNT_RIB_BOI_D</th>\n",
       "      <td>1994</td>\n",
       "      <td>9</td>\n",
       "      <td>14.0</td>\n",
       "    </tr>\n",
       "    <tr>\n",
       "      <th>MNT_RIB_BOI_D</th>\n",
       "      <td>1994</td>\n",
       "      <td>10</td>\n",
       "      <td>15.5</td>\n",
       "    </tr>\n",
       "    <tr>\n",
       "      <th>MNT_RIB_BOI_D</th>\n",
       "      <td>1994</td>\n",
       "      <td>11</td>\n",
       "      <td>15.5</td>\n",
       "    </tr>\n",
       "    <tr>\n",
       "      <th>MNT_RIB_BOI_D</th>\n",
       "      <td>1994</td>\n",
       "      <td>12</td>\n",
       "      <td>17.0</td>\n",
       "    </tr>\n",
       "  </tbody>\n",
       "</table>\n",
       "</div>"
      ]
     },
     "execution_count": 67,
     "metadata": {},
     "output_type": "execute_result"
    }
   ],
   "execution_count": 67
  },
  {
   "metadata": {
    "ExecuteTime": {
     "end_time": "2024-11-07T09:25:29.719756Z",
     "start_time": "2024-11-07T09:25:29.711769Z"
    }
   },
   "cell_type": "code",
   "source": [
    "df_isr.drop_duplicates(subset=['Month', 'Year'], keep='last', inplace=True)\n",
    "df_isr"
   ],
   "id": "9c60dadb87e8ac44",
   "outputs": [
    {
     "name": "stderr",
     "output_type": "stream",
     "text": [
      "C:\\Users\\shalo\\AppData\\Local\\Temp\\ipykernel_30260\\2198405317.py:1: SettingWithCopyWarning: \n",
      "A value is trying to be set on a copy of a slice from a DataFrame\n",
      "\n",
      "See the caveats in the documentation: https://pandas.pydata.org/pandas-docs/stable/user_guide/indexing.html#returning-a-view-versus-a-copy\n",
      "  df_isr.drop_duplicates(subset=['Month', 'Year'], keep='last', inplace=True)\n"
     ]
    },
    {
     "data": {
      "text/plain": [
       "               Year  Month  Current_Rate\n",
       "SERIES_CODE                             \n",
       "MNT_RIB_BOI_D  1994      1         10.50\n",
       "MNT_RIB_BOI_D  1994      2         10.50\n",
       "MNT_RIB_BOI_D  1994      3         10.50\n",
       "MNT_RIB_BOI_D  1994      4         10.50\n",
       "MNT_RIB_BOI_D  1994      5         11.50\n",
       "...             ...    ...           ...\n",
       "MNT_RIB_BOI_D  2023      8          4.75\n",
       "MNT_RIB_BOI_D  2023      9          4.75\n",
       "MNT_RIB_BOI_D  2023     10          4.75\n",
       "MNT_RIB_BOI_D  2023     11          4.75\n",
       "MNT_RIB_BOI_D  2023     12          4.75\n",
       "\n",
       "[360 rows x 3 columns]"
      ],
      "text/html": [
       "<div>\n",
       "<style scoped>\n",
       "    .dataframe tbody tr th:only-of-type {\n",
       "        vertical-align: middle;\n",
       "    }\n",
       "\n",
       "    .dataframe tbody tr th {\n",
       "        vertical-align: top;\n",
       "    }\n",
       "\n",
       "    .dataframe thead th {\n",
       "        text-align: right;\n",
       "    }\n",
       "</style>\n",
       "<table border=\"1\" class=\"dataframe\">\n",
       "  <thead>\n",
       "    <tr style=\"text-align: right;\">\n",
       "      <th></th>\n",
       "      <th>Year</th>\n",
       "      <th>Month</th>\n",
       "      <th>Current_Rate</th>\n",
       "    </tr>\n",
       "    <tr>\n",
       "      <th>SERIES_CODE</th>\n",
       "      <th></th>\n",
       "      <th></th>\n",
       "      <th></th>\n",
       "    </tr>\n",
       "  </thead>\n",
       "  <tbody>\n",
       "    <tr>\n",
       "      <th>MNT_RIB_BOI_D</th>\n",
       "      <td>1994</td>\n",
       "      <td>1</td>\n",
       "      <td>10.50</td>\n",
       "    </tr>\n",
       "    <tr>\n",
       "      <th>MNT_RIB_BOI_D</th>\n",
       "      <td>1994</td>\n",
       "      <td>2</td>\n",
       "      <td>10.50</td>\n",
       "    </tr>\n",
       "    <tr>\n",
       "      <th>MNT_RIB_BOI_D</th>\n",
       "      <td>1994</td>\n",
       "      <td>3</td>\n",
       "      <td>10.50</td>\n",
       "    </tr>\n",
       "    <tr>\n",
       "      <th>MNT_RIB_BOI_D</th>\n",
       "      <td>1994</td>\n",
       "      <td>4</td>\n",
       "      <td>10.50</td>\n",
       "    </tr>\n",
       "    <tr>\n",
       "      <th>MNT_RIB_BOI_D</th>\n",
       "      <td>1994</td>\n",
       "      <td>5</td>\n",
       "      <td>11.50</td>\n",
       "    </tr>\n",
       "    <tr>\n",
       "      <th>...</th>\n",
       "      <td>...</td>\n",
       "      <td>...</td>\n",
       "      <td>...</td>\n",
       "    </tr>\n",
       "    <tr>\n",
       "      <th>MNT_RIB_BOI_D</th>\n",
       "      <td>2023</td>\n",
       "      <td>8</td>\n",
       "      <td>4.75</td>\n",
       "    </tr>\n",
       "    <tr>\n",
       "      <th>MNT_RIB_BOI_D</th>\n",
       "      <td>2023</td>\n",
       "      <td>9</td>\n",
       "      <td>4.75</td>\n",
       "    </tr>\n",
       "    <tr>\n",
       "      <th>MNT_RIB_BOI_D</th>\n",
       "      <td>2023</td>\n",
       "      <td>10</td>\n",
       "      <td>4.75</td>\n",
       "    </tr>\n",
       "    <tr>\n",
       "      <th>MNT_RIB_BOI_D</th>\n",
       "      <td>2023</td>\n",
       "      <td>11</td>\n",
       "      <td>4.75</td>\n",
       "    </tr>\n",
       "    <tr>\n",
       "      <th>MNT_RIB_BOI_D</th>\n",
       "      <td>2023</td>\n",
       "      <td>12</td>\n",
       "      <td>4.75</td>\n",
       "    </tr>\n",
       "  </tbody>\n",
       "</table>\n",
       "<p>360 rows × 3 columns</p>\n",
       "</div>"
      ]
     },
     "execution_count": 81,
     "metadata": {},
     "output_type": "execute_result"
    }
   ],
   "execution_count": 81
  },
  {
   "metadata": {
    "ExecuteTime": {
     "end_time": "2024-11-07T09:25:41.825903Z",
     "start_time": "2024-11-07T09:25:41.819207Z"
    }
   },
   "cell_type": "code",
   "source": [
    "\n",
    "df_isr"
   ],
   "id": "9815063a147b39c9",
   "outputs": [
    {
     "data": {
      "text/plain": [
       "               Year  Month  Current_Rate\n",
       "SERIES_CODE                             \n",
       "MNT_RIB_BOI_D  1994      1         10.50\n",
       "MNT_RIB_BOI_D  1994      2         10.50\n",
       "MNT_RIB_BOI_D  1994      3         10.50\n",
       "MNT_RIB_BOI_D  1994      4         10.50\n",
       "MNT_RIB_BOI_D  1994      5         11.50\n",
       "...             ...    ...           ...\n",
       "MNT_RIB_BOI_D  2023      8          4.75\n",
       "MNT_RIB_BOI_D  2023      9          4.75\n",
       "MNT_RIB_BOI_D  2023     10          4.75\n",
       "MNT_RIB_BOI_D  2023     11          4.75\n",
       "MNT_RIB_BOI_D  2023     12          4.75\n",
       "\n",
       "[360 rows x 3 columns]"
      ],
      "text/html": [
       "<div>\n",
       "<style scoped>\n",
       "    .dataframe tbody tr th:only-of-type {\n",
       "        vertical-align: middle;\n",
       "    }\n",
       "\n",
       "    .dataframe tbody tr th {\n",
       "        vertical-align: top;\n",
       "    }\n",
       "\n",
       "    .dataframe thead th {\n",
       "        text-align: right;\n",
       "    }\n",
       "</style>\n",
       "<table border=\"1\" class=\"dataframe\">\n",
       "  <thead>\n",
       "    <tr style=\"text-align: right;\">\n",
       "      <th></th>\n",
       "      <th>Year</th>\n",
       "      <th>Month</th>\n",
       "      <th>Current_Rate</th>\n",
       "    </tr>\n",
       "    <tr>\n",
       "      <th>SERIES_CODE</th>\n",
       "      <th></th>\n",
       "      <th></th>\n",
       "      <th></th>\n",
       "    </tr>\n",
       "  </thead>\n",
       "  <tbody>\n",
       "    <tr>\n",
       "      <th>MNT_RIB_BOI_D</th>\n",
       "      <td>1994</td>\n",
       "      <td>1</td>\n",
       "      <td>10.50</td>\n",
       "    </tr>\n",
       "    <tr>\n",
       "      <th>MNT_RIB_BOI_D</th>\n",
       "      <td>1994</td>\n",
       "      <td>2</td>\n",
       "      <td>10.50</td>\n",
       "    </tr>\n",
       "    <tr>\n",
       "      <th>MNT_RIB_BOI_D</th>\n",
       "      <td>1994</td>\n",
       "      <td>3</td>\n",
       "      <td>10.50</td>\n",
       "    </tr>\n",
       "    <tr>\n",
       "      <th>MNT_RIB_BOI_D</th>\n",
       "      <td>1994</td>\n",
       "      <td>4</td>\n",
       "      <td>10.50</td>\n",
       "    </tr>\n",
       "    <tr>\n",
       "      <th>MNT_RIB_BOI_D</th>\n",
       "      <td>1994</td>\n",
       "      <td>5</td>\n",
       "      <td>11.50</td>\n",
       "    </tr>\n",
       "    <tr>\n",
       "      <th>...</th>\n",
       "      <td>...</td>\n",
       "      <td>...</td>\n",
       "      <td>...</td>\n",
       "    </tr>\n",
       "    <tr>\n",
       "      <th>MNT_RIB_BOI_D</th>\n",
       "      <td>2023</td>\n",
       "      <td>8</td>\n",
       "      <td>4.75</td>\n",
       "    </tr>\n",
       "    <tr>\n",
       "      <th>MNT_RIB_BOI_D</th>\n",
       "      <td>2023</td>\n",
       "      <td>9</td>\n",
       "      <td>4.75</td>\n",
       "    </tr>\n",
       "    <tr>\n",
       "      <th>MNT_RIB_BOI_D</th>\n",
       "      <td>2023</td>\n",
       "      <td>10</td>\n",
       "      <td>4.75</td>\n",
       "    </tr>\n",
       "    <tr>\n",
       "      <th>MNT_RIB_BOI_D</th>\n",
       "      <td>2023</td>\n",
       "      <td>11</td>\n",
       "      <td>4.75</td>\n",
       "    </tr>\n",
       "    <tr>\n",
       "      <th>MNT_RIB_BOI_D</th>\n",
       "      <td>2023</td>\n",
       "      <td>12</td>\n",
       "      <td>4.75</td>\n",
       "    </tr>\n",
       "  </tbody>\n",
       "</table>\n",
       "<p>360 rows × 3 columns</p>\n",
       "</div>"
      ]
     },
     "execution_count": 82,
     "metadata": {},
     "output_type": "execute_result"
    }
   ],
   "execution_count": 82
  },
  {
   "metadata": {
    "ExecuteTime": {
     "end_time": "2024-11-07T09:27:29.855035Z",
     "start_time": "2024-11-07T09:27:29.848975Z"
    }
   },
   "cell_type": "code",
   "source": [
    "df_isr['Change_From_Last_Month'] = df_isr['Current_Rate'] - df_isr['Current_Rate'].shift(1)\n",
    "df_isr['Change_From_Last_Month']"
   ],
   "id": "15314f0abf5c2fb2",
   "outputs": [
    {
     "name": "stderr",
     "output_type": "stream",
     "text": [
      "C:\\Users\\shalo\\AppData\\Local\\Temp\\ipykernel_30260\\288317149.py:1: SettingWithCopyWarning: \n",
      "A value is trying to be set on a copy of a slice from a DataFrame.\n",
      "Try using .loc[row_indexer,col_indexer] = value instead\n",
      "\n",
      "See the caveats in the documentation: https://pandas.pydata.org/pandas-docs/stable/user_guide/indexing.html#returning-a-view-versus-a-copy\n",
      "  df_isr['Change_From_Last_Month'] = df_isr['Current_Rate'] - df_isr['Current_Rate'].shift(1)\n"
     ]
    },
    {
     "data": {
      "text/plain": [
       "SERIES_CODE\n",
       "MNT_RIB_BOI_D    NaN\n",
       "MNT_RIB_BOI_D    0.0\n",
       "MNT_RIB_BOI_D    0.0\n",
       "MNT_RIB_BOI_D    0.0\n",
       "MNT_RIB_BOI_D    1.0\n",
       "                ... \n",
       "MNT_RIB_BOI_D    0.0\n",
       "MNT_RIB_BOI_D    0.0\n",
       "MNT_RIB_BOI_D    0.0\n",
       "MNT_RIB_BOI_D    0.0\n",
       "MNT_RIB_BOI_D    0.0\n",
       "Name: Change_From_Last_Month, Length: 360, dtype: float64"
      ]
     },
     "execution_count": 84,
     "metadata": {},
     "output_type": "execute_result"
    }
   ],
   "execution_count": 84
  },
  {
   "metadata": {
    "ExecuteTime": {
     "end_time": "2024-11-07T09:27:58.914600Z",
     "start_time": "2024-11-07T09:27:58.905733Z"
    }
   },
   "cell_type": "code",
   "source": "df_isr",
   "id": "884a207d18fe2b1d",
   "outputs": [
    {
     "data": {
      "text/plain": [
       "               Year  Month  Current_Rate  Change_From_Last_Month\n",
       "SERIES_CODE                                                     \n",
       "MNT_RIB_BOI_D  1994      1         10.50                     NaN\n",
       "MNT_RIB_BOI_D  1994      2         10.50                     0.0\n",
       "MNT_RIB_BOI_D  1994      3         10.50                     0.0\n",
       "MNT_RIB_BOI_D  1994      4         10.50                     0.0\n",
       "MNT_RIB_BOI_D  1994      5         11.50                     1.0\n",
       "...             ...    ...           ...                     ...\n",
       "MNT_RIB_BOI_D  2023      8          4.75                     0.0\n",
       "MNT_RIB_BOI_D  2023      9          4.75                     0.0\n",
       "MNT_RIB_BOI_D  2023     10          4.75                     0.0\n",
       "MNT_RIB_BOI_D  2023     11          4.75                     0.0\n",
       "MNT_RIB_BOI_D  2023     12          4.75                     0.0\n",
       "\n",
       "[360 rows x 4 columns]"
      ],
      "text/html": [
       "<div>\n",
       "<style scoped>\n",
       "    .dataframe tbody tr th:only-of-type {\n",
       "        vertical-align: middle;\n",
       "    }\n",
       "\n",
       "    .dataframe tbody tr th {\n",
       "        vertical-align: top;\n",
       "    }\n",
       "\n",
       "    .dataframe thead th {\n",
       "        text-align: right;\n",
       "    }\n",
       "</style>\n",
       "<table border=\"1\" class=\"dataframe\">\n",
       "  <thead>\n",
       "    <tr style=\"text-align: right;\">\n",
       "      <th></th>\n",
       "      <th>Year</th>\n",
       "      <th>Month</th>\n",
       "      <th>Current_Rate</th>\n",
       "      <th>Change_From_Last_Month</th>\n",
       "    </tr>\n",
       "    <tr>\n",
       "      <th>SERIES_CODE</th>\n",
       "      <th></th>\n",
       "      <th></th>\n",
       "      <th></th>\n",
       "      <th></th>\n",
       "    </tr>\n",
       "  </thead>\n",
       "  <tbody>\n",
       "    <tr>\n",
       "      <th>MNT_RIB_BOI_D</th>\n",
       "      <td>1994</td>\n",
       "      <td>1</td>\n",
       "      <td>10.50</td>\n",
       "      <td>NaN</td>\n",
       "    </tr>\n",
       "    <tr>\n",
       "      <th>MNT_RIB_BOI_D</th>\n",
       "      <td>1994</td>\n",
       "      <td>2</td>\n",
       "      <td>10.50</td>\n",
       "      <td>0.0</td>\n",
       "    </tr>\n",
       "    <tr>\n",
       "      <th>MNT_RIB_BOI_D</th>\n",
       "      <td>1994</td>\n",
       "      <td>3</td>\n",
       "      <td>10.50</td>\n",
       "      <td>0.0</td>\n",
       "    </tr>\n",
       "    <tr>\n",
       "      <th>MNT_RIB_BOI_D</th>\n",
       "      <td>1994</td>\n",
       "      <td>4</td>\n",
       "      <td>10.50</td>\n",
       "      <td>0.0</td>\n",
       "    </tr>\n",
       "    <tr>\n",
       "      <th>MNT_RIB_BOI_D</th>\n",
       "      <td>1994</td>\n",
       "      <td>5</td>\n",
       "      <td>11.50</td>\n",
       "      <td>1.0</td>\n",
       "    </tr>\n",
       "    <tr>\n",
       "      <th>...</th>\n",
       "      <td>...</td>\n",
       "      <td>...</td>\n",
       "      <td>...</td>\n",
       "      <td>...</td>\n",
       "    </tr>\n",
       "    <tr>\n",
       "      <th>MNT_RIB_BOI_D</th>\n",
       "      <td>2023</td>\n",
       "      <td>8</td>\n",
       "      <td>4.75</td>\n",
       "      <td>0.0</td>\n",
       "    </tr>\n",
       "    <tr>\n",
       "      <th>MNT_RIB_BOI_D</th>\n",
       "      <td>2023</td>\n",
       "      <td>9</td>\n",
       "      <td>4.75</td>\n",
       "      <td>0.0</td>\n",
       "    </tr>\n",
       "    <tr>\n",
       "      <th>MNT_RIB_BOI_D</th>\n",
       "      <td>2023</td>\n",
       "      <td>10</td>\n",
       "      <td>4.75</td>\n",
       "      <td>0.0</td>\n",
       "    </tr>\n",
       "    <tr>\n",
       "      <th>MNT_RIB_BOI_D</th>\n",
       "      <td>2023</td>\n",
       "      <td>11</td>\n",
       "      <td>4.75</td>\n",
       "      <td>0.0</td>\n",
       "    </tr>\n",
       "    <tr>\n",
       "      <th>MNT_RIB_BOI_D</th>\n",
       "      <td>2023</td>\n",
       "      <td>12</td>\n",
       "      <td>4.75</td>\n",
       "      <td>0.0</td>\n",
       "    </tr>\n",
       "  </tbody>\n",
       "</table>\n",
       "<p>360 rows × 4 columns</p>\n",
       "</div>"
      ]
     },
     "execution_count": 85,
     "metadata": {},
     "output_type": "execute_result"
    }
   ],
   "execution_count": 85
  },
  {
   "metadata": {
    "ExecuteTime": {
     "end_time": "2024-11-07T10:19:38.426301Z",
     "start_time": "2024-11-07T10:19:38.418047Z"
    }
   },
   "cell_type": "code",
   "source": [
    "df_us = pd.read_csv('./data/FEDFUNDS.csv',index_col=0,sep=',')\n",
    "df_us \n",
    "\n"
   ],
   "id": "8fb38157aa6333f3",
   "outputs": [
    {
     "data": {
      "text/plain": [
       "            FEDFUNDS\n",
       "DATE                \n",
       "1993-07-01      3.06\n",
       "1993-08-01      3.03\n",
       "1993-09-01      3.09\n",
       "1993-10-01      2.99\n",
       "1993-11-01      3.02\n",
       "...              ...\n",
       "2023-06-01      5.08\n",
       "2023-07-01      5.12\n",
       "2023-08-01      5.33\n",
       "2023-09-01      5.33\n",
       "2023-10-01      5.33\n",
       "\n",
       "[364 rows x 1 columns]"
      ],
      "text/html": [
       "<div>\n",
       "<style scoped>\n",
       "    .dataframe tbody tr th:only-of-type {\n",
       "        vertical-align: middle;\n",
       "    }\n",
       "\n",
       "    .dataframe tbody tr th {\n",
       "        vertical-align: top;\n",
       "    }\n",
       "\n",
       "    .dataframe thead th {\n",
       "        text-align: right;\n",
       "    }\n",
       "</style>\n",
       "<table border=\"1\" class=\"dataframe\">\n",
       "  <thead>\n",
       "    <tr style=\"text-align: right;\">\n",
       "      <th></th>\n",
       "      <th>FEDFUNDS</th>\n",
       "    </tr>\n",
       "    <tr>\n",
       "      <th>DATE</th>\n",
       "      <th></th>\n",
       "    </tr>\n",
       "  </thead>\n",
       "  <tbody>\n",
       "    <tr>\n",
       "      <th>1993-07-01</th>\n",
       "      <td>3.06</td>\n",
       "    </tr>\n",
       "    <tr>\n",
       "      <th>1993-08-01</th>\n",
       "      <td>3.03</td>\n",
       "    </tr>\n",
       "    <tr>\n",
       "      <th>1993-09-01</th>\n",
       "      <td>3.09</td>\n",
       "    </tr>\n",
       "    <tr>\n",
       "      <th>1993-10-01</th>\n",
       "      <td>2.99</td>\n",
       "    </tr>\n",
       "    <tr>\n",
       "      <th>1993-11-01</th>\n",
       "      <td>3.02</td>\n",
       "    </tr>\n",
       "    <tr>\n",
       "      <th>...</th>\n",
       "      <td>...</td>\n",
       "    </tr>\n",
       "    <tr>\n",
       "      <th>2023-06-01</th>\n",
       "      <td>5.08</td>\n",
       "    </tr>\n",
       "    <tr>\n",
       "      <th>2023-07-01</th>\n",
       "      <td>5.12</td>\n",
       "    </tr>\n",
       "    <tr>\n",
       "      <th>2023-08-01</th>\n",
       "      <td>5.33</td>\n",
       "    </tr>\n",
       "    <tr>\n",
       "      <th>2023-09-01</th>\n",
       "      <td>5.33</td>\n",
       "    </tr>\n",
       "    <tr>\n",
       "      <th>2023-10-01</th>\n",
       "      <td>5.33</td>\n",
       "    </tr>\n",
       "  </tbody>\n",
       "</table>\n",
       "<p>364 rows × 1 columns</p>\n",
       "</div>"
      ]
     },
     "execution_count": 109,
     "metadata": {},
     "output_type": "execute_result"
    }
   ],
   "execution_count": 109
  },
  {
   "metadata": {
    "ExecuteTime": {
     "end_time": "2024-11-07T10:19:49.083828Z",
     "start_time": "2024-11-07T10:19:49.075319Z"
    }
   },
   "cell_type": "code",
   "source": "df_us.columns",
   "id": "394d45e5fca2b2c5",
   "outputs": [
    {
     "data": {
      "text/plain": [
       "Index(['FEDFUNDS'], dtype='object')"
      ]
     },
     "execution_count": 110,
     "metadata": {},
     "output_type": "execute_result"
    }
   ],
   "execution_count": 110
  },
  {
   "metadata": {},
   "cell_type": "code",
   "outputs": [],
   "execution_count": null,
   "source": "",
   "id": "167b567bd09b4171"
  },
  {
   "metadata": {
    "ExecuteTime": {
     "end_time": "2024-11-07T10:20:06.215178Z",
     "start_time": "2024-11-07T10:20:06.207673Z"
    }
   },
   "cell_type": "code",
   "source": [
    "df_us = df_us.reset_index()\n",
    "df_us"
   ],
   "id": "dfb441928cad90e8",
   "outputs": [
    {
     "data": {
      "text/plain": [
       "           DATE  FEDFUNDS\n",
       "0    1993-07-01      3.06\n",
       "1    1993-08-01      3.03\n",
       "2    1993-09-01      3.09\n",
       "3    1993-10-01      2.99\n",
       "4    1993-11-01      3.02\n",
       "..          ...       ...\n",
       "359  2023-06-01      5.08\n",
       "360  2023-07-01      5.12\n",
       "361  2023-08-01      5.33\n",
       "362  2023-09-01      5.33\n",
       "363  2023-10-01      5.33\n",
       "\n",
       "[364 rows x 2 columns]"
      ],
      "text/html": [
       "<div>\n",
       "<style scoped>\n",
       "    .dataframe tbody tr th:only-of-type {\n",
       "        vertical-align: middle;\n",
       "    }\n",
       "\n",
       "    .dataframe tbody tr th {\n",
       "        vertical-align: top;\n",
       "    }\n",
       "\n",
       "    .dataframe thead th {\n",
       "        text-align: right;\n",
       "    }\n",
       "</style>\n",
       "<table border=\"1\" class=\"dataframe\">\n",
       "  <thead>\n",
       "    <tr style=\"text-align: right;\">\n",
       "      <th></th>\n",
       "      <th>DATE</th>\n",
       "      <th>FEDFUNDS</th>\n",
       "    </tr>\n",
       "  </thead>\n",
       "  <tbody>\n",
       "    <tr>\n",
       "      <th>0</th>\n",
       "      <td>1993-07-01</td>\n",
       "      <td>3.06</td>\n",
       "    </tr>\n",
       "    <tr>\n",
       "      <th>1</th>\n",
       "      <td>1993-08-01</td>\n",
       "      <td>3.03</td>\n",
       "    </tr>\n",
       "    <tr>\n",
       "      <th>2</th>\n",
       "      <td>1993-09-01</td>\n",
       "      <td>3.09</td>\n",
       "    </tr>\n",
       "    <tr>\n",
       "      <th>3</th>\n",
       "      <td>1993-10-01</td>\n",
       "      <td>2.99</td>\n",
       "    </tr>\n",
       "    <tr>\n",
       "      <th>4</th>\n",
       "      <td>1993-11-01</td>\n",
       "      <td>3.02</td>\n",
       "    </tr>\n",
       "    <tr>\n",
       "      <th>...</th>\n",
       "      <td>...</td>\n",
       "      <td>...</td>\n",
       "    </tr>\n",
       "    <tr>\n",
       "      <th>359</th>\n",
       "      <td>2023-06-01</td>\n",
       "      <td>5.08</td>\n",
       "    </tr>\n",
       "    <tr>\n",
       "      <th>360</th>\n",
       "      <td>2023-07-01</td>\n",
       "      <td>5.12</td>\n",
       "    </tr>\n",
       "    <tr>\n",
       "      <th>361</th>\n",
       "      <td>2023-08-01</td>\n",
       "      <td>5.33</td>\n",
       "    </tr>\n",
       "    <tr>\n",
       "      <th>362</th>\n",
       "      <td>2023-09-01</td>\n",
       "      <td>5.33</td>\n",
       "    </tr>\n",
       "    <tr>\n",
       "      <th>363</th>\n",
       "      <td>2023-10-01</td>\n",
       "      <td>5.33</td>\n",
       "    </tr>\n",
       "  </tbody>\n",
       "</table>\n",
       "<p>364 rows × 2 columns</p>\n",
       "</div>"
      ]
     },
     "execution_count": 111,
     "metadata": {},
     "output_type": "execute_result"
    }
   ],
   "execution_count": 111
  },
  {
   "metadata": {
    "ExecuteTime": {
     "end_time": "2024-11-07T10:20:40.365179Z",
     "start_time": "2024-11-07T10:20:40.357520Z"
    }
   },
   "cell_type": "code",
   "source": [
    "df_us['DATE'] = pd.to_datetime(df_us['DATE'], errors='coerce')\n",
    "df_us"
   ],
   "id": "2f4d95fc404f2098",
   "outputs": [
    {
     "data": {
      "text/plain": [
       "          DATE  FEDFUNDS\n",
       "0   1993-07-01      3.06\n",
       "1   1993-08-01      3.03\n",
       "2   1993-09-01      3.09\n",
       "3   1993-10-01      2.99\n",
       "4   1993-11-01      3.02\n",
       "..         ...       ...\n",
       "359 2023-06-01      5.08\n",
       "360 2023-07-01      5.12\n",
       "361 2023-08-01      5.33\n",
       "362 2023-09-01      5.33\n",
       "363 2023-10-01      5.33\n",
       "\n",
       "[364 rows x 2 columns]"
      ],
      "text/html": [
       "<div>\n",
       "<style scoped>\n",
       "    .dataframe tbody tr th:only-of-type {\n",
       "        vertical-align: middle;\n",
       "    }\n",
       "\n",
       "    .dataframe tbody tr th {\n",
       "        vertical-align: top;\n",
       "    }\n",
       "\n",
       "    .dataframe thead th {\n",
       "        text-align: right;\n",
       "    }\n",
       "</style>\n",
       "<table border=\"1\" class=\"dataframe\">\n",
       "  <thead>\n",
       "    <tr style=\"text-align: right;\">\n",
       "      <th></th>\n",
       "      <th>DATE</th>\n",
       "      <th>FEDFUNDS</th>\n",
       "    </tr>\n",
       "  </thead>\n",
       "  <tbody>\n",
       "    <tr>\n",
       "      <th>0</th>\n",
       "      <td>1993-07-01</td>\n",
       "      <td>3.06</td>\n",
       "    </tr>\n",
       "    <tr>\n",
       "      <th>1</th>\n",
       "      <td>1993-08-01</td>\n",
       "      <td>3.03</td>\n",
       "    </tr>\n",
       "    <tr>\n",
       "      <th>2</th>\n",
       "      <td>1993-09-01</td>\n",
       "      <td>3.09</td>\n",
       "    </tr>\n",
       "    <tr>\n",
       "      <th>3</th>\n",
       "      <td>1993-10-01</td>\n",
       "      <td>2.99</td>\n",
       "    </tr>\n",
       "    <tr>\n",
       "      <th>4</th>\n",
       "      <td>1993-11-01</td>\n",
       "      <td>3.02</td>\n",
       "    </tr>\n",
       "    <tr>\n",
       "      <th>...</th>\n",
       "      <td>...</td>\n",
       "      <td>...</td>\n",
       "    </tr>\n",
       "    <tr>\n",
       "      <th>359</th>\n",
       "      <td>2023-06-01</td>\n",
       "      <td>5.08</td>\n",
       "    </tr>\n",
       "    <tr>\n",
       "      <th>360</th>\n",
       "      <td>2023-07-01</td>\n",
       "      <td>5.12</td>\n",
       "    </tr>\n",
       "    <tr>\n",
       "      <th>361</th>\n",
       "      <td>2023-08-01</td>\n",
       "      <td>5.33</td>\n",
       "    </tr>\n",
       "    <tr>\n",
       "      <th>362</th>\n",
       "      <td>2023-09-01</td>\n",
       "      <td>5.33</td>\n",
       "    </tr>\n",
       "    <tr>\n",
       "      <th>363</th>\n",
       "      <td>2023-10-01</td>\n",
       "      <td>5.33</td>\n",
       "    </tr>\n",
       "  </tbody>\n",
       "</table>\n",
       "<p>364 rows × 2 columns</p>\n",
       "</div>"
      ]
     },
     "execution_count": 113,
     "metadata": {},
     "output_type": "execute_result"
    }
   ],
   "execution_count": 113
  },
  {
   "metadata": {
    "ExecuteTime": {
     "end_time": "2024-11-07T10:22:15.493829Z",
     "start_time": "2024-11-07T10:22:15.483323Z"
    }
   },
   "cell_type": "code",
   "source": [
    "df_us['Year']  = df_us['DATE'].dt.year\n",
    "\n",
    "df_us['Month'] = df_us['DATE'].dt.month\n",
    "df_us"
   ],
   "id": "9f1ac2bb20c66303",
   "outputs": [
    {
     "data": {
      "text/plain": [
       "          DATE  FEDFUNDS  Year  Month\n",
       "0   1993-07-01      3.06  1993      7\n",
       "1   1993-08-01      3.03  1993      8\n",
       "2   1993-09-01      3.09  1993      9\n",
       "3   1993-10-01      2.99  1993     10\n",
       "4   1993-11-01      3.02  1993     11\n",
       "..         ...       ...   ...    ...\n",
       "359 2023-06-01      5.08  2023      6\n",
       "360 2023-07-01      5.12  2023      7\n",
       "361 2023-08-01      5.33  2023      8\n",
       "362 2023-09-01      5.33  2023      9\n",
       "363 2023-10-01      5.33  2023     10\n",
       "\n",
       "[364 rows x 4 columns]"
      ],
      "text/html": [
       "<div>\n",
       "<style scoped>\n",
       "    .dataframe tbody tr th:only-of-type {\n",
       "        vertical-align: middle;\n",
       "    }\n",
       "\n",
       "    .dataframe tbody tr th {\n",
       "        vertical-align: top;\n",
       "    }\n",
       "\n",
       "    .dataframe thead th {\n",
       "        text-align: right;\n",
       "    }\n",
       "</style>\n",
       "<table border=\"1\" class=\"dataframe\">\n",
       "  <thead>\n",
       "    <tr style=\"text-align: right;\">\n",
       "      <th></th>\n",
       "      <th>DATE</th>\n",
       "      <th>FEDFUNDS</th>\n",
       "      <th>Year</th>\n",
       "      <th>Month</th>\n",
       "    </tr>\n",
       "  </thead>\n",
       "  <tbody>\n",
       "    <tr>\n",
       "      <th>0</th>\n",
       "      <td>1993-07-01</td>\n",
       "      <td>3.06</td>\n",
       "      <td>1993</td>\n",
       "      <td>7</td>\n",
       "    </tr>\n",
       "    <tr>\n",
       "      <th>1</th>\n",
       "      <td>1993-08-01</td>\n",
       "      <td>3.03</td>\n",
       "      <td>1993</td>\n",
       "      <td>8</td>\n",
       "    </tr>\n",
       "    <tr>\n",
       "      <th>2</th>\n",
       "      <td>1993-09-01</td>\n",
       "      <td>3.09</td>\n",
       "      <td>1993</td>\n",
       "      <td>9</td>\n",
       "    </tr>\n",
       "    <tr>\n",
       "      <th>3</th>\n",
       "      <td>1993-10-01</td>\n",
       "      <td>2.99</td>\n",
       "      <td>1993</td>\n",
       "      <td>10</td>\n",
       "    </tr>\n",
       "    <tr>\n",
       "      <th>4</th>\n",
       "      <td>1993-11-01</td>\n",
       "      <td>3.02</td>\n",
       "      <td>1993</td>\n",
       "      <td>11</td>\n",
       "    </tr>\n",
       "    <tr>\n",
       "      <th>...</th>\n",
       "      <td>...</td>\n",
       "      <td>...</td>\n",
       "      <td>...</td>\n",
       "      <td>...</td>\n",
       "    </tr>\n",
       "    <tr>\n",
       "      <th>359</th>\n",
       "      <td>2023-06-01</td>\n",
       "      <td>5.08</td>\n",
       "      <td>2023</td>\n",
       "      <td>6</td>\n",
       "    </tr>\n",
       "    <tr>\n",
       "      <th>360</th>\n",
       "      <td>2023-07-01</td>\n",
       "      <td>5.12</td>\n",
       "      <td>2023</td>\n",
       "      <td>7</td>\n",
       "    </tr>\n",
       "    <tr>\n",
       "      <th>361</th>\n",
       "      <td>2023-08-01</td>\n",
       "      <td>5.33</td>\n",
       "      <td>2023</td>\n",
       "      <td>8</td>\n",
       "    </tr>\n",
       "    <tr>\n",
       "      <th>362</th>\n",
       "      <td>2023-09-01</td>\n",
       "      <td>5.33</td>\n",
       "      <td>2023</td>\n",
       "      <td>9</td>\n",
       "    </tr>\n",
       "    <tr>\n",
       "      <th>363</th>\n",
       "      <td>2023-10-01</td>\n",
       "      <td>5.33</td>\n",
       "      <td>2023</td>\n",
       "      <td>10</td>\n",
       "    </tr>\n",
       "  </tbody>\n",
       "</table>\n",
       "<p>364 rows × 4 columns</p>\n",
       "</div>"
      ]
     },
     "execution_count": 114,
     "metadata": {},
     "output_type": "execute_result"
    }
   ],
   "execution_count": 114
  },
  {
   "metadata": {
    "ExecuteTime": {
     "end_time": "2024-11-07T10:23:29.284696Z",
     "start_time": "2024-11-07T10:23:29.279273Z"
    }
   },
   "cell_type": "code",
   "source": [
    "df_us['Current_Rate'] = df_us['FEDFUNDS']\n",
    "print(df_us.Current_Rate)"
   ],
   "id": "c9a5577412435b08",
   "outputs": [
    {
     "name": "stdout",
     "output_type": "stream",
     "text": [
      "0      3.06\n",
      "1      3.03\n",
      "2      3.09\n",
      "3      2.99\n",
      "4      3.02\n",
      "       ... \n",
      "359    5.08\n",
      "360    5.12\n",
      "361    5.33\n",
      "362    5.33\n",
      "363    5.33\n",
      "Name: Current_Rate, Length: 364, dtype: float64\n"
     ]
    }
   ],
   "execution_count": 115
  },
  {
   "metadata": {
    "ExecuteTime": {
     "end_time": "2024-11-07T10:24:18.330567Z",
     "start_time": "2024-11-07T10:24:18.323709Z"
    }
   },
   "cell_type": "code",
   "source": [
    "df_us = df_us[['Year', 'Month', 'Current_Rate']]\n",
    "df_us.head()"
   ],
   "id": "763ac145595df8ad",
   "outputs": [
    {
     "data": {
      "text/plain": [
       "   Year  Month  Current_Rate\n",
       "0  1993      7          3.06\n",
       "1  1993      8          3.03\n",
       "2  1993      9          3.09\n",
       "3  1993     10          2.99\n",
       "4  1993     11          3.02"
      ],
      "text/html": [
       "<div>\n",
       "<style scoped>\n",
       "    .dataframe tbody tr th:only-of-type {\n",
       "        vertical-align: middle;\n",
       "    }\n",
       "\n",
       "    .dataframe tbody tr th {\n",
       "        vertical-align: top;\n",
       "    }\n",
       "\n",
       "    .dataframe thead th {\n",
       "        text-align: right;\n",
       "    }\n",
       "</style>\n",
       "<table border=\"1\" class=\"dataframe\">\n",
       "  <thead>\n",
       "    <tr style=\"text-align: right;\">\n",
       "      <th></th>\n",
       "      <th>Year</th>\n",
       "      <th>Month</th>\n",
       "      <th>Current_Rate</th>\n",
       "    </tr>\n",
       "  </thead>\n",
       "  <tbody>\n",
       "    <tr>\n",
       "      <th>0</th>\n",
       "      <td>1993</td>\n",
       "      <td>7</td>\n",
       "      <td>3.06</td>\n",
       "    </tr>\n",
       "    <tr>\n",
       "      <th>1</th>\n",
       "      <td>1993</td>\n",
       "      <td>8</td>\n",
       "      <td>3.03</td>\n",
       "    </tr>\n",
       "    <tr>\n",
       "      <th>2</th>\n",
       "      <td>1993</td>\n",
       "      <td>9</td>\n",
       "      <td>3.09</td>\n",
       "    </tr>\n",
       "    <tr>\n",
       "      <th>3</th>\n",
       "      <td>1993</td>\n",
       "      <td>10</td>\n",
       "      <td>2.99</td>\n",
       "    </tr>\n",
       "    <tr>\n",
       "      <th>4</th>\n",
       "      <td>1993</td>\n",
       "      <td>11</td>\n",
       "      <td>3.02</td>\n",
       "    </tr>\n",
       "  </tbody>\n",
       "</table>\n",
       "</div>"
      ]
     },
     "execution_count": 116,
     "metadata": {},
     "output_type": "execute_result"
    }
   ],
   "execution_count": 116
  },
  {
   "metadata": {},
   "cell_type": "code",
   "outputs": [],
   "execution_count": null,
   "source": "",
   "id": "dc3e095a3a2209ca"
  },
  {
   "metadata": {
    "ExecuteTime": {
     "end_time": "2024-11-07T10:24:57.600954Z",
     "start_time": "2024-11-07T10:24:57.591744Z"
    }
   },
   "cell_type": "code",
   "source": [
    "df_us.drop_duplicates(subset=['Month', 'Year'], keep='last', inplace=True)\n",
    "df_us"
   ],
   "id": "a860a0e412e15c8f",
   "outputs": [
    {
     "name": "stderr",
     "output_type": "stream",
     "text": [
      "C:\\Users\\shalo\\AppData\\Local\\Temp\\ipykernel_30260\\3147940650.py:1: SettingWithCopyWarning: \n",
      "A value is trying to be set on a copy of a slice from a DataFrame\n",
      "\n",
      "See the caveats in the documentation: https://pandas.pydata.org/pandas-docs/stable/user_guide/indexing.html#returning-a-view-versus-a-copy\n",
      "  df_us.drop_duplicates(subset=['Month', 'Year'], keep='last', inplace=True)\n"
     ]
    },
    {
     "data": {
      "text/plain": [
       "     Year  Month  Current_Rate\n",
       "0    1993      7          3.06\n",
       "1    1993      8          3.03\n",
       "2    1993      9          3.09\n",
       "3    1993     10          2.99\n",
       "4    1993     11          3.02\n",
       "..    ...    ...           ...\n",
       "359  2023      6          5.08\n",
       "360  2023      7          5.12\n",
       "361  2023      8          5.33\n",
       "362  2023      9          5.33\n",
       "363  2023     10          5.33\n",
       "\n",
       "[364 rows x 3 columns]"
      ],
      "text/html": [
       "<div>\n",
       "<style scoped>\n",
       "    .dataframe tbody tr th:only-of-type {\n",
       "        vertical-align: middle;\n",
       "    }\n",
       "\n",
       "    .dataframe tbody tr th {\n",
       "        vertical-align: top;\n",
       "    }\n",
       "\n",
       "    .dataframe thead th {\n",
       "        text-align: right;\n",
       "    }\n",
       "</style>\n",
       "<table border=\"1\" class=\"dataframe\">\n",
       "  <thead>\n",
       "    <tr style=\"text-align: right;\">\n",
       "      <th></th>\n",
       "      <th>Year</th>\n",
       "      <th>Month</th>\n",
       "      <th>Current_Rate</th>\n",
       "    </tr>\n",
       "  </thead>\n",
       "  <tbody>\n",
       "    <tr>\n",
       "      <th>0</th>\n",
       "      <td>1993</td>\n",
       "      <td>7</td>\n",
       "      <td>3.06</td>\n",
       "    </tr>\n",
       "    <tr>\n",
       "      <th>1</th>\n",
       "      <td>1993</td>\n",
       "      <td>8</td>\n",
       "      <td>3.03</td>\n",
       "    </tr>\n",
       "    <tr>\n",
       "      <th>2</th>\n",
       "      <td>1993</td>\n",
       "      <td>9</td>\n",
       "      <td>3.09</td>\n",
       "    </tr>\n",
       "    <tr>\n",
       "      <th>3</th>\n",
       "      <td>1993</td>\n",
       "      <td>10</td>\n",
       "      <td>2.99</td>\n",
       "    </tr>\n",
       "    <tr>\n",
       "      <th>4</th>\n",
       "      <td>1993</td>\n",
       "      <td>11</td>\n",
       "      <td>3.02</td>\n",
       "    </tr>\n",
       "    <tr>\n",
       "      <th>...</th>\n",
       "      <td>...</td>\n",
       "      <td>...</td>\n",
       "      <td>...</td>\n",
       "    </tr>\n",
       "    <tr>\n",
       "      <th>359</th>\n",
       "      <td>2023</td>\n",
       "      <td>6</td>\n",
       "      <td>5.08</td>\n",
       "    </tr>\n",
       "    <tr>\n",
       "      <th>360</th>\n",
       "      <td>2023</td>\n",
       "      <td>7</td>\n",
       "      <td>5.12</td>\n",
       "    </tr>\n",
       "    <tr>\n",
       "      <th>361</th>\n",
       "      <td>2023</td>\n",
       "      <td>8</td>\n",
       "      <td>5.33</td>\n",
       "    </tr>\n",
       "    <tr>\n",
       "      <th>362</th>\n",
       "      <td>2023</td>\n",
       "      <td>9</td>\n",
       "      <td>5.33</td>\n",
       "    </tr>\n",
       "    <tr>\n",
       "      <th>363</th>\n",
       "      <td>2023</td>\n",
       "      <td>10</td>\n",
       "      <td>5.33</td>\n",
       "    </tr>\n",
       "  </tbody>\n",
       "</table>\n",
       "<p>364 rows × 3 columns</p>\n",
       "</div>"
      ]
     },
     "execution_count": 117,
     "metadata": {},
     "output_type": "execute_result"
    }
   ],
   "execution_count": 117
  },
  {
   "metadata": {
    "ExecuteTime": {
     "end_time": "2024-11-07T10:25:41.719061Z",
     "start_time": "2024-11-07T10:25:41.707541Z"
    }
   },
   "cell_type": "code",
   "source": [
    "df_us['Change_From_Last_Month'] = df_us['Current_Rate'] - df_us['Current_Rate'].shift(1)\n",
    "df_us"
   ],
   "id": "b383d745906568e8",
   "outputs": [
    {
     "name": "stderr",
     "output_type": "stream",
     "text": [
      "C:\\Users\\shalo\\AppData\\Local\\Temp\\ipykernel_30260\\1404678418.py:1: SettingWithCopyWarning: \n",
      "A value is trying to be set on a copy of a slice from a DataFrame.\n",
      "Try using .loc[row_indexer,col_indexer] = value instead\n",
      "\n",
      "See the caveats in the documentation: https://pandas.pydata.org/pandas-docs/stable/user_guide/indexing.html#returning-a-view-versus-a-copy\n",
      "  df_us['Change_From_Last_Month'] = df_us['Current_Rate'] - df_us['Current_Rate'].shift(1)\n"
     ]
    },
    {
     "data": {
      "text/plain": [
       "     Year  Month  Current_Rate  Change_From_Last_Month\n",
       "0    1993      7          3.06                     NaN\n",
       "1    1993      8          3.03                   -0.03\n",
       "2    1993      9          3.09                    0.06\n",
       "3    1993     10          2.99                   -0.10\n",
       "4    1993     11          3.02                    0.03\n",
       "..    ...    ...           ...                     ...\n",
       "359  2023      6          5.08                    0.02\n",
       "360  2023      7          5.12                    0.04\n",
       "361  2023      8          5.33                    0.21\n",
       "362  2023      9          5.33                    0.00\n",
       "363  2023     10          5.33                    0.00\n",
       "\n",
       "[364 rows x 4 columns]"
      ],
      "text/html": [
       "<div>\n",
       "<style scoped>\n",
       "    .dataframe tbody tr th:only-of-type {\n",
       "        vertical-align: middle;\n",
       "    }\n",
       "\n",
       "    .dataframe tbody tr th {\n",
       "        vertical-align: top;\n",
       "    }\n",
       "\n",
       "    .dataframe thead th {\n",
       "        text-align: right;\n",
       "    }\n",
       "</style>\n",
       "<table border=\"1\" class=\"dataframe\">\n",
       "  <thead>\n",
       "    <tr style=\"text-align: right;\">\n",
       "      <th></th>\n",
       "      <th>Year</th>\n",
       "      <th>Month</th>\n",
       "      <th>Current_Rate</th>\n",
       "      <th>Change_From_Last_Month</th>\n",
       "    </tr>\n",
       "  </thead>\n",
       "  <tbody>\n",
       "    <tr>\n",
       "      <th>0</th>\n",
       "      <td>1993</td>\n",
       "      <td>7</td>\n",
       "      <td>3.06</td>\n",
       "      <td>NaN</td>\n",
       "    </tr>\n",
       "    <tr>\n",
       "      <th>1</th>\n",
       "      <td>1993</td>\n",
       "      <td>8</td>\n",
       "      <td>3.03</td>\n",
       "      <td>-0.03</td>\n",
       "    </tr>\n",
       "    <tr>\n",
       "      <th>2</th>\n",
       "      <td>1993</td>\n",
       "      <td>9</td>\n",
       "      <td>3.09</td>\n",
       "      <td>0.06</td>\n",
       "    </tr>\n",
       "    <tr>\n",
       "      <th>3</th>\n",
       "      <td>1993</td>\n",
       "      <td>10</td>\n",
       "      <td>2.99</td>\n",
       "      <td>-0.10</td>\n",
       "    </tr>\n",
       "    <tr>\n",
       "      <th>4</th>\n",
       "      <td>1993</td>\n",
       "      <td>11</td>\n",
       "      <td>3.02</td>\n",
       "      <td>0.03</td>\n",
       "    </tr>\n",
       "    <tr>\n",
       "      <th>...</th>\n",
       "      <td>...</td>\n",
       "      <td>...</td>\n",
       "      <td>...</td>\n",
       "      <td>...</td>\n",
       "    </tr>\n",
       "    <tr>\n",
       "      <th>359</th>\n",
       "      <td>2023</td>\n",
       "      <td>6</td>\n",
       "      <td>5.08</td>\n",
       "      <td>0.02</td>\n",
       "    </tr>\n",
       "    <tr>\n",
       "      <th>360</th>\n",
       "      <td>2023</td>\n",
       "      <td>7</td>\n",
       "      <td>5.12</td>\n",
       "      <td>0.04</td>\n",
       "    </tr>\n",
       "    <tr>\n",
       "      <th>361</th>\n",
       "      <td>2023</td>\n",
       "      <td>8</td>\n",
       "      <td>5.33</td>\n",
       "      <td>0.21</td>\n",
       "    </tr>\n",
       "    <tr>\n",
       "      <th>362</th>\n",
       "      <td>2023</td>\n",
       "      <td>9</td>\n",
       "      <td>5.33</td>\n",
       "      <td>0.00</td>\n",
       "    </tr>\n",
       "    <tr>\n",
       "      <th>363</th>\n",
       "      <td>2023</td>\n",
       "      <td>10</td>\n",
       "      <td>5.33</td>\n",
       "      <td>0.00</td>\n",
       "    </tr>\n",
       "  </tbody>\n",
       "</table>\n",
       "<p>364 rows × 4 columns</p>\n",
       "</div>"
      ]
     },
     "execution_count": 118,
     "metadata": {},
     "output_type": "execute_result"
    }
   ],
   "execution_count": 118
  },
  {
   "metadata": {},
   "cell_type": "code",
   "outputs": [],
   "execution_count": null,
   "source": "",
   "id": "d499e2e0bac97b4b"
  },
  {
   "metadata": {},
   "cell_type": "markdown",
   "source": [
    "    ## Part A: Single DataFrame Analysis \n",
    "1. Display the first 5 rows of the US interest rates DataFrame.\n",
    "\n",
    "2. Calculate the average Israeli interest rate over the period covered by your data.\n",
    "\n",
    "3. Find the month and year when the USD to ILS exchange rate had the highest increase from the previous month.\n",
    "\n",
    "4. Determine the total number of months where the US interest rate decreased compared to the previous month.\n",
    "\n",
    "5. Add a new column to the Israeli interest rates DataFrame called Change_Percentage, representing the percentage change from the previous month.\n",
    "\n"
   ],
   "id": "71323c7318598fbb"
  },
  {
   "metadata": {
    "ExecuteTime": {
     "end_time": "2024-11-07T10:26:45.184692Z",
     "start_time": "2024-11-07T10:26:45.178193Z"
    }
   },
   "cell_type": "code",
   "source": [
    "# A - 1\n",
    "# your code here\n",
    "df_us.head(5)"
   ],
   "id": "399887d7fba8803a",
   "outputs": [
    {
     "data": {
      "text/plain": [
       "   Year  Month  Current_Rate  Change_From_Last_Month\n",
       "0  1993      7          3.06                     NaN\n",
       "1  1993      8          3.03                   -0.03\n",
       "2  1993      9          3.09                    0.06\n",
       "3  1993     10          2.99                   -0.10\n",
       "4  1993     11          3.02                    0.03"
      ],
      "text/html": [
       "<div>\n",
       "<style scoped>\n",
       "    .dataframe tbody tr th:only-of-type {\n",
       "        vertical-align: middle;\n",
       "    }\n",
       "\n",
       "    .dataframe tbody tr th {\n",
       "        vertical-align: top;\n",
       "    }\n",
       "\n",
       "    .dataframe thead th {\n",
       "        text-align: right;\n",
       "    }\n",
       "</style>\n",
       "<table border=\"1\" class=\"dataframe\">\n",
       "  <thead>\n",
       "    <tr style=\"text-align: right;\">\n",
       "      <th></th>\n",
       "      <th>Year</th>\n",
       "      <th>Month</th>\n",
       "      <th>Current_Rate</th>\n",
       "      <th>Change_From_Last_Month</th>\n",
       "    </tr>\n",
       "  </thead>\n",
       "  <tbody>\n",
       "    <tr>\n",
       "      <th>0</th>\n",
       "      <td>1993</td>\n",
       "      <td>7</td>\n",
       "      <td>3.06</td>\n",
       "      <td>NaN</td>\n",
       "    </tr>\n",
       "    <tr>\n",
       "      <th>1</th>\n",
       "      <td>1993</td>\n",
       "      <td>8</td>\n",
       "      <td>3.03</td>\n",
       "      <td>-0.03</td>\n",
       "    </tr>\n",
       "    <tr>\n",
       "      <th>2</th>\n",
       "      <td>1993</td>\n",
       "      <td>9</td>\n",
       "      <td>3.09</td>\n",
       "      <td>0.06</td>\n",
       "    </tr>\n",
       "    <tr>\n",
       "      <th>3</th>\n",
       "      <td>1993</td>\n",
       "      <td>10</td>\n",
       "      <td>2.99</td>\n",
       "      <td>-0.10</td>\n",
       "    </tr>\n",
       "    <tr>\n",
       "      <th>4</th>\n",
       "      <td>1993</td>\n",
       "      <td>11</td>\n",
       "      <td>3.02</td>\n",
       "      <td>0.03</td>\n",
       "    </tr>\n",
       "  </tbody>\n",
       "</table>\n",
       "</div>"
      ]
     },
     "execution_count": 119,
     "metadata": {},
     "output_type": "execute_result"
    }
   ],
   "execution_count": 119
  },
  {
   "metadata": {
    "ExecuteTime": {
     "end_time": "2024-11-07T10:30:18.104201Z",
     "start_time": "2024-11-07T10:30:18.099418Z"
    }
   },
   "cell_type": "code",
   "source": [
    "# A - 2\n",
    "# your code here\n",
    "avg_isr = df_isr['Current_Rate'].mean()\n",
    "print(avg_isr)"
   ],
   "id": "91d022cc344514de",
   "outputs": [
    {
     "name": "stdout",
     "output_type": "stream",
     "text": [
      "4.879444444444445\n"
     ]
    }
   ],
   "execution_count": 120
  },
  {
   "metadata": {
    "ExecuteTime": {
     "end_time": "2024-11-07T00:06:53.867357Z",
     "start_time": "2024-11-07T00:06:53.865505Z"
    }
   },
   "cell_type": "code",
   "source": [
    "# A - 3\n",
    "# your code here"
   ],
   "id": "c29c363cd4e9a279",
   "outputs": [],
   "execution_count": 8
  },
  {
   "metadata": {
    "ExecuteTime": {
     "end_time": "2024-11-07T10:34:44.828039Z",
     "start_time": "2024-11-07T10:34:44.822815Z"
    }
   },
   "cell_type": "code",
   "source": [
    "# A - 4\n",
    "# your code here\n",
    "sum_month_mines_us = (df_us['Change_From_Last_Month'] < 0).sum()\n",
    "print(sum_month_mines_us)"
   ],
   "id": "c4c8ec122d04672",
   "outputs": [
    {
     "name": "stdout",
     "output_type": "stream",
     "text": [
      "122\n"
     ]
    }
   ],
   "execution_count": 121
  },
  {
   "metadata": {
    "ExecuteTime": {
     "end_time": "2024-11-07T10:43:40.144597Z",
     "start_time": "2024-11-07T10:43:40.135853Z"
    }
   },
   "cell_type": "code",
   "source": [
    "# A - 5\n",
    "# your code here\n",
    "df_isr['Change_Percentage'] = (df_isr['Change_From_Last_Month'] / df_isr['Current_Rate'].shift(1))\n",
    "df_isr\n",
    "\n"
   ],
   "id": "49115d5dbff52532",
   "outputs": [
    {
     "data": {
      "text/plain": [
       "               Year  Month  Current_Rate  Change_From_Last_Month  \\\n",
       "SERIES_CODE                                                        \n",
       "MNT_RIB_BOI_D  1994      1         10.50                     NaN   \n",
       "MNT_RIB_BOI_D  1994      2         10.50                     0.0   \n",
       "MNT_RIB_BOI_D  1994      3         10.50                     0.0   \n",
       "MNT_RIB_BOI_D  1994      4         10.50                     0.0   \n",
       "MNT_RIB_BOI_D  1994      5         11.50                     1.0   \n",
       "...             ...    ...           ...                     ...   \n",
       "MNT_RIB_BOI_D  2023      8          4.75                     0.0   \n",
       "MNT_RIB_BOI_D  2023      9          4.75                     0.0   \n",
       "MNT_RIB_BOI_D  2023     10          4.75                     0.0   \n",
       "MNT_RIB_BOI_D  2023     11          4.75                     0.0   \n",
       "MNT_RIB_BOI_D  2023     12          4.75                     0.0   \n",
       "\n",
       "               Change_Percentage  \n",
       "SERIES_CODE                       \n",
       "MNT_RIB_BOI_D                NaN  \n",
       "MNT_RIB_BOI_D           0.000000  \n",
       "MNT_RIB_BOI_D           0.000000  \n",
       "MNT_RIB_BOI_D           0.000000  \n",
       "MNT_RIB_BOI_D           0.095238  \n",
       "...                          ...  \n",
       "MNT_RIB_BOI_D           0.000000  \n",
       "MNT_RIB_BOI_D           0.000000  \n",
       "MNT_RIB_BOI_D           0.000000  \n",
       "MNT_RIB_BOI_D           0.000000  \n",
       "MNT_RIB_BOI_D           0.000000  \n",
       "\n",
       "[360 rows x 5 columns]"
      ],
      "text/html": [
       "<div>\n",
       "<style scoped>\n",
       "    .dataframe tbody tr th:only-of-type {\n",
       "        vertical-align: middle;\n",
       "    }\n",
       "\n",
       "    .dataframe tbody tr th {\n",
       "        vertical-align: top;\n",
       "    }\n",
       "\n",
       "    .dataframe thead th {\n",
       "        text-align: right;\n",
       "    }\n",
       "</style>\n",
       "<table border=\"1\" class=\"dataframe\">\n",
       "  <thead>\n",
       "    <tr style=\"text-align: right;\">\n",
       "      <th></th>\n",
       "      <th>Year</th>\n",
       "      <th>Month</th>\n",
       "      <th>Current_Rate</th>\n",
       "      <th>Change_From_Last_Month</th>\n",
       "      <th>Change_Percentage</th>\n",
       "    </tr>\n",
       "    <tr>\n",
       "      <th>SERIES_CODE</th>\n",
       "      <th></th>\n",
       "      <th></th>\n",
       "      <th></th>\n",
       "      <th></th>\n",
       "      <th></th>\n",
       "    </tr>\n",
       "  </thead>\n",
       "  <tbody>\n",
       "    <tr>\n",
       "      <th>MNT_RIB_BOI_D</th>\n",
       "      <td>1994</td>\n",
       "      <td>1</td>\n",
       "      <td>10.50</td>\n",
       "      <td>NaN</td>\n",
       "      <td>NaN</td>\n",
       "    </tr>\n",
       "    <tr>\n",
       "      <th>MNT_RIB_BOI_D</th>\n",
       "      <td>1994</td>\n",
       "      <td>2</td>\n",
       "      <td>10.50</td>\n",
       "      <td>0.0</td>\n",
       "      <td>0.000000</td>\n",
       "    </tr>\n",
       "    <tr>\n",
       "      <th>MNT_RIB_BOI_D</th>\n",
       "      <td>1994</td>\n",
       "      <td>3</td>\n",
       "      <td>10.50</td>\n",
       "      <td>0.0</td>\n",
       "      <td>0.000000</td>\n",
       "    </tr>\n",
       "    <tr>\n",
       "      <th>MNT_RIB_BOI_D</th>\n",
       "      <td>1994</td>\n",
       "      <td>4</td>\n",
       "      <td>10.50</td>\n",
       "      <td>0.0</td>\n",
       "      <td>0.000000</td>\n",
       "    </tr>\n",
       "    <tr>\n",
       "      <th>MNT_RIB_BOI_D</th>\n",
       "      <td>1994</td>\n",
       "      <td>5</td>\n",
       "      <td>11.50</td>\n",
       "      <td>1.0</td>\n",
       "      <td>0.095238</td>\n",
       "    </tr>\n",
       "    <tr>\n",
       "      <th>...</th>\n",
       "      <td>...</td>\n",
       "      <td>...</td>\n",
       "      <td>...</td>\n",
       "      <td>...</td>\n",
       "      <td>...</td>\n",
       "    </tr>\n",
       "    <tr>\n",
       "      <th>MNT_RIB_BOI_D</th>\n",
       "      <td>2023</td>\n",
       "      <td>8</td>\n",
       "      <td>4.75</td>\n",
       "      <td>0.0</td>\n",
       "      <td>0.000000</td>\n",
       "    </tr>\n",
       "    <tr>\n",
       "      <th>MNT_RIB_BOI_D</th>\n",
       "      <td>2023</td>\n",
       "      <td>9</td>\n",
       "      <td>4.75</td>\n",
       "      <td>0.0</td>\n",
       "      <td>0.000000</td>\n",
       "    </tr>\n",
       "    <tr>\n",
       "      <th>MNT_RIB_BOI_D</th>\n",
       "      <td>2023</td>\n",
       "      <td>10</td>\n",
       "      <td>4.75</td>\n",
       "      <td>0.0</td>\n",
       "      <td>0.000000</td>\n",
       "    </tr>\n",
       "    <tr>\n",
       "      <th>MNT_RIB_BOI_D</th>\n",
       "      <td>2023</td>\n",
       "      <td>11</td>\n",
       "      <td>4.75</td>\n",
       "      <td>0.0</td>\n",
       "      <td>0.000000</td>\n",
       "    </tr>\n",
       "    <tr>\n",
       "      <th>MNT_RIB_BOI_D</th>\n",
       "      <td>2023</td>\n",
       "      <td>12</td>\n",
       "      <td>4.75</td>\n",
       "      <td>0.0</td>\n",
       "      <td>0.000000</td>\n",
       "    </tr>\n",
       "  </tbody>\n",
       "</table>\n",
       "<p>360 rows × 5 columns</p>\n",
       "</div>"
      ]
     },
     "execution_count": 125,
     "metadata": {},
     "output_type": "execute_result"
    }
   ],
   "execution_count": 125
  },
  {
   "metadata": {},
   "cell_type": "markdown",
   "source": [
    "## Part B: Merging DataFrames\n",
    "1. Merge the US and Israeli interest rates DataFrames on Year and Month.\n",
    "\n",
    "2. In the merged DataFrame, create a new column Rate_Difference that shows the difference between the Israeli and US interest rates for each month.\n",
    "\n",
    "3. Identify all months when the Israeli interest rate was at least 1% higher than the US interest rate - IH (Israeli Higher).\n",
    "Identify all months when the US interest rate was at least 1% higher than the Israeli interest rate - UH (US Higher).\n",
    "Identify all months when the interest rates were within 1% of each other - N (Near)\n",
    "make a new column called Rate_Comparison with the following values: IH, UH, or N.\n",
    "\n",
    "4. Merge the exchange rate DataFrame with the merged interest rates DataFrame.\n",
    "\n",
    "5. After merging all three DataFrames, find the correlation between the Rate_Difference and the Current_Rate of the exchange rate.\n",
    "hint: find the connection between the difference in interest rates and the exchange rates, use any method you think is appropriate.\n",
    "provide an explanation of the results (in Hebrew) - at least 2 rows of text + a proof of the connection(some output) you found.\n"
   ],
   "id": "37324394ba9e1454"
  },
  {
   "metadata": {
    "ExecuteTime": {
     "end_time": "2024-11-07T10:58:46.138624Z",
     "start_time": "2024-11-07T10:58:46.130762Z"
    }
   },
   "cell_type": "code",
   "source": [
    "# B - 1\n",
    "# your code here\n",
    "\n",
    "merged_df = pd.merge(df_us, df_isr, on=['Year', 'Month'], suffixes=('_us', '_isr'))\n",
    "\n",
    "print(merged_df.head())\n"
   ],
   "id": "f6fcdba8d4d32d73",
   "outputs": [
    {
     "name": "stdout",
     "output_type": "stream",
     "text": [
      "   Year  Month  Current_Rate_us  Change_From_Last_Month_us  Current_Rate_isr  \\\n",
      "0  1994      1             3.05                       0.09              10.5   \n",
      "1  1994      2             3.25                       0.20              10.5   \n",
      "2  1994      3             3.34                       0.09              10.5   \n",
      "3  1994      4             3.56                       0.22              10.5   \n",
      "4  1994      5             4.01                       0.45              11.5   \n",
      "\n",
      "   Change_From_Last_Month_isr  Change_Percentage  \n",
      "0                         NaN                NaN  \n",
      "1                         0.0           0.000000  \n",
      "2                         0.0           0.000000  \n",
      "3                         0.0           0.000000  \n",
      "4                         1.0           0.095238  \n"
     ]
    }
   ],
   "execution_count": 128
  },
  {
   "metadata": {
    "ExecuteTime": {
     "end_time": "2024-11-07T10:56:46.894210Z",
     "start_time": "2024-11-07T10:56:46.888356Z"
    }
   },
   "cell_type": "code",
   "source": [
    "# B - 2\n",
    "# your code here\n",
    "merged_df['Rate_Difference'] = merged_df['Current_Rate_ISR'] - merged_df['Current_Rate_US']\n",
    "print(merged_df.head())"
   ],
   "id": "7f18978fee56c6d6",
   "outputs": [
    {
     "name": "stdout",
     "output_type": "stream",
     "text": [
      "   Year  Month  Current_Rate_US  Change_From_Last_Month_US  Current_Rate_ISR  \\\n",
      "0  1994      1             3.05                       0.09              10.5   \n",
      "1  1994      2             3.25                       0.20              10.5   \n",
      "2  1994      3             3.34                       0.09              10.5   \n",
      "3  1994      4             3.56                       0.22              10.5   \n",
      "4  1994      5             4.01                       0.45              11.5   \n",
      "\n",
      "   Change_From_Last_Month_ISR  Change_Percentage  Rate_Difference  \n",
      "0                         NaN                NaN             7.45  \n",
      "1                         0.0           0.000000             7.25  \n",
      "2                         0.0           0.000000             7.16  \n",
      "3                         0.0           0.000000             6.94  \n",
      "4                         1.0           0.095238             7.49  \n"
     ]
    }
   ],
   "execution_count": 127
  },
  {
   "metadata": {
    "ExecuteTime": {
     "end_time": "2024-11-07T00:06:10.259079Z",
     "start_time": "2024-11-07T00:06:10.257004Z"
    }
   },
   "cell_type": "code",
   "source": [
    "# B - 3\n",
    "# your code here"
   ],
   "id": "c6dcf835650149bf",
   "outputs": [],
   "execution_count": 3
  },
  {
   "metadata": {
    "ExecuteTime": {
     "end_time": "2024-11-07T00:06:12.381548Z",
     "start_time": "2024-11-07T00:06:12.379873Z"
    }
   },
   "cell_type": "code",
   "source": [
    "# B - 4\n",
    "# your code here"
   ],
   "id": "3145d351d7cbe982",
   "outputs": [],
   "execution_count": 4
  },
  {
   "metadata": {
    "ExecuteTime": {
     "end_time": "2024-11-07T00:06:37.878612Z",
     "start_time": "2024-11-07T00:06:37.876775Z"
    }
   },
   "cell_type": "code",
   "source": [
    "# B - 5\n",
    "# your code here"
   ],
   "id": "fe04eba74c68ab35",
   "outputs": [],
   "execution_count": 6
  },
  {
   "metadata": {},
   "cell_type": "code",
   "outputs": [],
   "execution_count": null,
   "source": "",
   "id": "48d876ac1bc8092"
  },
  {
   "metadata": {},
   "cell_type": "markdown",
   "source": [
    "## Part C: Analyzing Relationships Between DataFrames\n",
    "1. Analyze whether increases in US interest rates are associated with increases or decreases in the USD to ILS exchange rate in the same month.\n",
    "\n",
    "2. Determine if changes in the Israeli interest rate have a stronger impact on the exchange rate than changes in the US interest rate.\n",
    "\n",
    "3. Find any time lags in the effect of interest rate changes on the exchange rate. For example, does a change in US interest rates affect the exchange rate in the following month?\n",
    "(כלומר- האם כשיש שינוי בריבית כלשהי - האם מייד יש שינוי בשער ההמרה? או שיש דיליי של חודש/חודשים עד שמרגישים את ההשפעה - אם בכלל?)\n",
    "\n",
    "4. Calculate the rolling past 3-month average of the exchange rate for each data time, and add it as a new column.\n",
    "\n",
    "5. Identify any periods where both US and Israeli interest rates were decreasing, and analyze how the exchange rate behaved during those periods.\n",
    "\n"
   ],
   "id": "22213f81bdf06965"
  },
  {
   "metadata": {},
   "cell_type": "code",
   "outputs": [],
   "execution_count": null,
   "source": "# Bonus ",
   "id": "706a690fd803211c"
  },
  {
   "metadata": {},
   "cell_type": "markdown",
   "source": [
    "# Bonus\n",
    "choose 3 global / local events or periods that you think could have affected the exchange rate or interest rates\n",
    "and analyze the effect of these events on the data you collected.\n",
    "show proof of your analysis that supports your claim.\n",
    "\n",
    "(כלומר- תבחנו אירועים שקרו בתקופה שאתם עובדים עליה ובדקו איך הם השפיעו על הנתונים שאתם עובדים איתם)\n",
    "למשל: בחירות בארה״ב, בחירות בישראל, רוסיה אוקראינה, מלחמות בישראל וכו׳."
   ],
   "id": "8be22debf92d8f3a"
  },
  {
   "metadata": {},
   "cell_type": "code",
   "outputs": [],
   "execution_count": null,
   "source": "# Your code here",
   "id": "7cd992b43f3700e8"
  }
 ],
 "metadata": {
  "kernelspec": {
   "display_name": "Python 3",
   "language": "python",
   "name": "python3"
  },
  "language_info": {
   "codemirror_mode": {
    "name": "ipython",
    "version": 2
   },
   "file_extension": ".py",
   "mimetype": "text/x-python",
   "name": "python",
   "nbconvert_exporter": "python",
   "pygments_lexer": "ipython2",
   "version": "2.7.6"
  }
 },
 "nbformat": 4,
 "nbformat_minor": 5
}
